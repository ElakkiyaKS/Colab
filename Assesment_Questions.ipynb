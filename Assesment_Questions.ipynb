{
  "nbformat": 4,
  "nbformat_minor": 0,
  "metadata": {
    "colab": {
      "provenance": [],
      "authorship_tag": "ABX9TyMZCWtLU9rkctMRrwWw39MO",
      "include_colab_link": true
    },
    "kernelspec": {
      "name": "python3",
      "display_name": "Python 3"
    },
    "language_info": {
      "name": "python"
    }
  },
  "cells": [
    {
      "cell_type": "markdown",
      "metadata": {
        "id": "view-in-github",
        "colab_type": "text"
      },
      "source": [
        "<a href=\"https://colab.research.google.com/github/ElakkiyaKS/Colab/blob/main/Assesment_Questions.ipynb\" target=\"_parent\"><img src=\"https://colab.research.google.com/assets/colab-badge.svg\" alt=\"Open In Colab\"/></a>"
      ]
    },
    {
      "cell_type": "code",
      "execution_count": null,
      "metadata": {
        "id": "FDmDqXKay8VK",
        "colab": {
          "base_uri": "https://localhost:8080/"
        },
        "outputId": "bd1b2aa9-0ee5-4589-c005-c9e0295bd220"
      },
      "outputs": [
        {
          "output_type": "stream",
          "name": "stdout",
          "text": [
            "apple\n",
            "<list_reverseiterator object at 0x7ef86422d720>\n"
          ]
        }
      ],
      "source": [
        "#decoding the encoded message\n",
        "a = input().split()\n",
        "b = ['a','b','c','d','e','f','g','h','i','j','k','l','m','n','o','p','q','r','s','t','u','v','w','x','y','z']\n",
        "c = 'aeiou'\n",
        "d = []\n",
        "for i in a:\n",
        "  if i in c:\n",
        "    a[i],a[i+1] = a[i+1],a[i]\n",
        "  elif a in b:\n",
        "    a[i],a[i+3] = a[i+3],a[i]\n",
        "    d.append(a)\n",
        "print(reversed(d))\n",
        "\n"
      ]
    },
    {
      "cell_type": "code",
      "source": [],
      "metadata": {
        "id": "rvF0_FY7N_Y_"
      },
      "execution_count": null,
      "outputs": []
    }
  ]
}