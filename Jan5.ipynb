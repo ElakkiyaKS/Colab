{
  "nbformat": 4,
  "nbformat_minor": 0,
  "metadata": {
    "colab": {
      "provenance": [],
      "authorship_tag": "ABX9TyPGcpkicm5ObrEMQFJPNGmo",
      "include_colab_link": true
    },
    "kernelspec": {
      "name": "python3",
      "display_name": "Python 3"
    },
    "language_info": {
      "name": "python"
    }
  },
  "cells": [
    {
      "cell_type": "markdown",
      "metadata": {
        "id": "view-in-github",
        "colab_type": "text"
      },
      "source": [
        "<a href=\"https://colab.research.google.com/github/ElakkiyaKS/Colab/blob/main/Jan5.ipynb\" target=\"_parent\"><img src=\"https://colab.research.google.com/assets/colab-badge.svg\" alt=\"Open In Colab\"/></a>"
      ]
    },
    {
      "cell_type": "code",
      "execution_count": null,
      "metadata": {
        "id": "iiyQ4O4a6epi"
      },
      "outputs": [],
      "source": [
        "#LIST"
      ]
    },
    {
      "cell_type": "code",
      "source": [
        "list = [1,3,5,\"apple\"]\n",
        "print(list)"
      ],
      "metadata": {
        "colab": {
          "base_uri": "https://localhost:8080/"
        },
        "id": "9cDNLrAU6nGW",
        "outputId": "3797d3a3-ded0-4a54-e3b7-6b7f7344e804"
      },
      "execution_count": null,
      "outputs": [
        {
          "output_type": "stream",
          "name": "stdout",
          "text": [
            "[1, 3, 5, 'apple']\n"
          ]
        }
      ]
    },
    {
      "cell_type": "code",
      "source": [
        "t = (1,2,3)\n",
        "t = (6)\n",
        "print(t)"
      ],
      "metadata": {
        "colab": {
          "base_uri": "https://localhost:8080/"
        },
        "id": "-uQjEdV38_61",
        "outputId": "72a4b738-d02e-4158-fd92-f4bf6245fb42"
      },
      "execution_count": null,
      "outputs": [
        {
          "output_type": "stream",
          "name": "stdout",
          "text": [
            "6\n"
          ]
        }
      ]
    },
    {
      "cell_type": "code",
      "source": [
        "#to identify type of list\n",
        "list = [1,2,3,4,5]\n",
        "print(type(list))"
      ],
      "metadata": {
        "colab": {
          "base_uri": "https://localhost:8080/"
        },
        "id": "mbLnRqQ6-V1-",
        "outputId": "079ccd9f-1d17-44eb-d155-4d1a33950fcf"
      },
      "execution_count": null,
      "outputs": [
        {
          "output_type": "stream",
          "name": "stdout",
          "text": [
            "<class 'list'>\n"
          ]
        }
      ]
    },
    {
      "cell_type": "code",
      "source": [
        "#to see address of list\n",
        "list = [1,2,3,4,5]\n",
        "print(id(list))"
      ],
      "metadata": {
        "colab": {
          "base_uri": "https://localhost:8080/"
        },
        "id": "2ZIyDrFh-xYu",
        "outputId": "96cf9dda-6888-44da-c3c1-f1001d6c88c4"
      },
      "execution_count": null,
      "outputs": [
        {
          "output_type": "stream",
          "name": "stdout",
          "text": [
            "137962386603136\n"
          ]
        }
      ]
    },
    {
      "cell_type": "code",
      "source": [
        "#set\n",
        "set={True,1,2,3,4,0,False}\n",
        "print(set)"
      ],
      "metadata": {
        "colab": {
          "base_uri": "https://localhost:8080/"
        },
        "id": "oL_hooCkBTsA",
        "outputId": "cdf42985-7a5f-4fa8-cd90-374420c53f6a"
      },
      "execution_count": null,
      "outputs": [
        {
          "output_type": "stream",
          "name": "stdout",
          "text": [
            "{0, True, 2, 3, 4}\n"
          ]
        }
      ]
    },
    {
      "cell_type": "code",
      "source": [
        "#dictionary\n",
        "dict = {\"1\":\"apple\",\"2\":\"orange\",\"3\":\"kiwi\"}\n",
        "print(dict[\"1\"])"
      ],
      "metadata": {
        "colab": {
          "base_uri": "https://localhost:8080/"
        },
        "id": "ruHCel4SKK9m",
        "outputId": "00f8e5e4-2c07-4c9a-ec78-2a43eff8c57a"
      },
      "execution_count": null,
      "outputs": [
        {
          "output_type": "stream",
          "name": "stdout",
          "text": [
            "apple\n"
          ]
        }
      ]
    },
    {
      "cell_type": "code",
      "source": [
        "#to print keys\n",
        "dict = {\"1\":\"apple\",\"2\":\"orange\",\"3\":\"kiwi\"}\n",
        "print(dict.keys())"
      ],
      "metadata": {
        "colab": {
          "base_uri": "https://localhost:8080/"
        },
        "id": "K9FdnT9bNKnW",
        "outputId": "75e8639d-016e-436c-8638-e532330bdaaa"
      },
      "execution_count": null,
      "outputs": [
        {
          "output_type": "stream",
          "name": "stdout",
          "text": [
            "dict_keys(['1', '2', '3'])\n"
          ]
        }
      ]
    },
    {
      "cell_type": "code",
      "source": [
        "#to print values\n",
        "dict = {\"1\":\"apple\",\"2\":\"orange\",\"3\":\"kiwi\"}\n",
        "print(dict.values())"
      ],
      "metadata": {
        "colab": {
          "base_uri": "https://localhost:8080/"
        },
        "id": "sgheU2YMNVL3",
        "outputId": "7c4a7140-ad6e-4e9c-f93d-187d1d9654bf"
      },
      "execution_count": null,
      "outputs": [
        {
          "output_type": "stream",
          "name": "stdout",
          "text": [
            "dict_values(['apple', 'orange', 'kiwi'])\n"
          ]
        }
      ]
    },
    {
      "cell_type": "code",
      "source": [
        "#append, appends as the last element of list\n",
        "list = [1,2,3]\n",
        "list.append(20)\n",
        "list"
      ],
      "metadata": {
        "colab": {
          "base_uri": "https://localhost:8080/"
        },
        "id": "RZOYwXiQNgLN",
        "outputId": "aad56159-b988-449b-bb31-a2b0730bd834"
      },
      "execution_count": null,
      "outputs": [
        {
          "output_type": "execute_result",
          "data": {
            "text/plain": [
              "[1, 2, 3, 20]"
            ]
          },
          "metadata": {},
          "execution_count": 19
        }
      ]
    },
    {
      "cell_type": "code",
      "source": [
        "#insert, inserts at the specified index value\n",
        "list = [1,2,3]\n",
        "list.insert(1,20)\n",
        "list"
      ],
      "metadata": {
        "colab": {
          "base_uri": "https://localhost:8080/"
        },
        "id": "mDrWh0awOw1V",
        "outputId": "a7ba9c5f-3178-445c-ad28-e16a5610567a"
      },
      "execution_count": null,
      "outputs": [
        {
          "output_type": "execute_result",
          "data": {
            "text/plain": [
              "[1, 20, 2, 3]"
            ]
          },
          "metadata": {},
          "execution_count": 20
        }
      ]
    },
    {
      "cell_type": "code",
      "source": [
        "#pop, deletes the last element from the list\n",
        "list = [1,2,3]\n",
        "list.pop()\n",
        "list\n"
      ],
      "metadata": {
        "colab": {
          "base_uri": "https://localhost:8080/"
        },
        "id": "foT60N8lPC5o",
        "outputId": "33bfac31-5134-4a4b-ba2a-cbdb6a1bc54e"
      },
      "execution_count": null,
      "outputs": [
        {
          "output_type": "execute_result",
          "data": {
            "text/plain": [
              "[1, 2]"
            ]
          },
          "metadata": {},
          "execution_count": 21
        }
      ]
    },
    {
      "cell_type": "code",
      "source": [
        "#remove,removes the specified value from the list\n",
        "list = [1,2,3,4,5]\n",
        "list.remove(4)\n",
        "list"
      ],
      "metadata": {
        "colab": {
          "base_uri": "https://localhost:8080/"
        },
        "id": "e6r_qVeqPOmz",
        "outputId": "6b03ad37-984a-4720-e8f8-47f44d6134f9"
      },
      "execution_count": null,
      "outputs": [
        {
          "output_type": "execute_result",
          "data": {
            "text/plain": [
              "[1, 2, 3, 5]"
            ]
          },
          "metadata": {},
          "execution_count": 22
        }
      ]
    },
    {
      "cell_type": "code",
      "source": [
        "#pop(), removes the value from specified index value\n",
        "list = [1,2,3,4,5]\n",
        "list.pop(3)\n",
        "list"
      ],
      "metadata": {
        "colab": {
          "base_uri": "https://localhost:8080/"
        },
        "id": "BeH4w5u1PXUr",
        "outputId": "79ee50ce-dd9b-4446-beaf-81df027b4478"
      },
      "execution_count": null,
      "outputs": [
        {
          "output_type": "execute_result",
          "data": {
            "text/plain": [
              "[1, 2, 3, 5]"
            ]
          },
          "metadata": {},
          "execution_count": 23
        }
      ]
    },
    {
      "cell_type": "code",
      "source": [
        "#to find the minimum value from the list\n",
        "list = [1,2,3,4,5]\n",
        "print(min(list))"
      ],
      "metadata": {
        "colab": {
          "base_uri": "https://localhost:8080/"
        },
        "id": "XZlgwKPFQq_I",
        "outputId": "f70a2e95-90d7-4b28-84ea-cf3a66055eba"
      },
      "execution_count": null,
      "outputs": [
        {
          "output_type": "stream",
          "name": "stdout",
          "text": [
            "1\n"
          ]
        }
      ]
    },
    {
      "cell_type": "code",
      "source": [
        "#to find the maximum value from the list\n",
        "list = [1,2,3,4,5]\n",
        "print(max(list))"
      ],
      "metadata": {
        "colab": {
          "base_uri": "https://localhost:8080/"
        },
        "id": "2teKaPmPRFpz",
        "outputId": "9f796c4c-d8e7-4691-c4d7-308745442cc8"
      },
      "execution_count": null,
      "outputs": [
        {
          "output_type": "stream",
          "name": "stdout",
          "text": [
            "5\n"
          ]
        }
      ]
    },
    {
      "cell_type": "code",
      "source": [
        "#to print the length/how many values in the list\n",
        "list = [1,2,3,4,5]\n",
        "print(len(list))"
      ],
      "metadata": {
        "colab": {
          "base_uri": "https://localhost:8080/"
        },
        "id": "jAt4Q2gURNfo",
        "outputId": "29651b3d-0cab-4d9e-a1ec-5468eeafe6d8"
      },
      "execution_count": null,
      "outputs": [
        {
          "output_type": "stream",
          "name": "stdout",
          "text": [
            "5\n"
          ]
        }
      ]
    },
    {
      "cell_type": "code",
      "source": [
        "list = [1,2,3,4,5]\n",
        "print(max(list))\n"
      ],
      "metadata": {
        "colab": {
          "base_uri": "https://localhost:8080/"
        },
        "id": "ZZ3bS3QkR2Xr",
        "outputId": "e9717c5c-a55d-4e92-c16c-582413a86d18"
      },
      "execution_count": null,
      "outputs": [
        {
          "output_type": "stream",
          "name": "stdout",
          "text": [
            "5\n"
          ]
        }
      ]
    },
    {
      "cell_type": "code",
      "source": [
        "#to remove duplicate values\n",
        "list = [1,2,3,2,1,4,5]\n",
        "list1 = []\n",
        "for x in list:\n",
        "  if x not in list1:\n",
        "    list1.append(x)\n",
        "print(list1)\n",
        "\n"
      ],
      "metadata": {
        "colab": {
          "base_uri": "https://localhost:8080/"
        },
        "id": "NF0KbZ_1TGVv",
        "outputId": "9f9b4568-d5c9-4e5e-a291-95c51ea564d5"
      },
      "execution_count": null,
      "outputs": [
        {
          "output_type": "stream",
          "name": "stdout",
          "text": [
            "[1, 2, 3, 4, 5]\n"
          ]
        }
      ]
    },
    {
      "cell_type": "code",
      "source": [
        "#sorting in ascending\n",
        "list = [5,3,4,2,1]\n",
        "list.sort()\n",
        "list"
      ],
      "metadata": {
        "colab": {
          "base_uri": "https://localhost:8080/"
        },
        "id": "IFCPTSdfXqlW",
        "outputId": "b07ea7dc-7831-437b-bd6e-af2969b696d9"
      },
      "execution_count": null,
      "outputs": [
        {
          "output_type": "execute_result",
          "data": {
            "text/plain": [
              "[1, 2, 3, 4, 5]"
            ]
          },
          "metadata": {},
          "execution_count": 39
        }
      ]
    },
    {
      "cell_type": "code",
      "source": [
        "#sorting in descending\n",
        "list = [1,2,3,4,5]\n",
        "list.sort(reverse=True)\n",
        "list"
      ],
      "metadata": {
        "colab": {
          "base_uri": "https://localhost:8080/"
        },
        "id": "6dp5_G_4YRCj",
        "outputId": "f64dc1a1-9895-4563-96a9-5ae7bd303c6d"
      },
      "execution_count": null,
      "outputs": [
        {
          "output_type": "execute_result",
          "data": {
            "text/plain": [
              "[5, 4, 3, 2, 1]"
            ]
          },
          "metadata": {},
          "execution_count": 43
        }
      ]
    },
    {
      "cell_type": "code",
      "source": [
        "#extend in list\n",
        "list= [1,2,3,4,5]\n",
        "list.extend([1,2,3,4,5])\n",
        "list"
      ],
      "metadata": {
        "colab": {
          "base_uri": "https://localhost:8080/"
        },
        "id": "_P_-I83Iabb2",
        "outputId": "4d5abffd-c949-4fbb-b1aa-0c2ddba36c05"
      },
      "execution_count": null,
      "outputs": [
        {
          "output_type": "execute_result",
          "data": {
            "text/plain": [
              "[1, 2, 3, 4, 5, 1, 2, 3, 4, 5]"
            ]
          },
          "metadata": {},
          "execution_count": 45
        }
      ]
    },
    {
      "cell_type": "code",
      "source": [
        "list= [1,2,3,4,5]\n",
        "list.append([1,2,3,4,5])\n",
        "list"
      ],
      "metadata": {
        "colab": {
          "base_uri": "https://localhost:8080/"
        },
        "id": "l_4UZUt0avvS",
        "outputId": "f7247ad5-279a-46db-d7cd-74b6fc4ff9c1"
      },
      "execution_count": null,
      "outputs": [
        {
          "output_type": "execute_result",
          "data": {
            "text/plain": [
              "[1, 2, 3, 4, 5, [1, 2, 3, 4, 5]]"
            ]
          },
          "metadata": {},
          "execution_count": 46
        }
      ]
    }
  ]
}