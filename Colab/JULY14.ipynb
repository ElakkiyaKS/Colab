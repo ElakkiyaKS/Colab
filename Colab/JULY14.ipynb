{
  "nbformat": 4,
  "nbformat_minor": 0,
  "metadata": {
    "colab": {
      "provenance": []
    },
    "kernelspec": {
      "name": "python3",
      "display_name": "Python 3"
    },
    "language_info": {
      "name": "python"
    }
  },
  "cells": [
    {
      "cell_type": "code",
      "execution_count": null,
      "metadata": {
        "colab": {
          "base_uri": "https://localhost:8080/"
        },
        "id": "VnTQRTnxpynf",
        "outputId": "9fbd3898-f5ce-49f0-bdee-d5ada42d99fc"
      },
      "outputs": [
        {
          "output_type": "stream",
          "name": "stdout",
          "text": [
            "enter brackets of strings: ([{}])\n",
            "valid\n"
          ]
        }
      ],
      "source": [
        "#check string of brackets are  valid\n",
        "string = input(\"enter brackets of strings: \") # [(){}]\n",
        "open_brackets = []\n",
        "flag = True\n",
        "for char in string:\n",
        "    if char in (\"{\", \"(\", \"[\"):\n",
        "        open_brackets.append(char)\n",
        "    elif char == \"}\" and open_brackets[-1] == \"{\":\n",
        "        open_brackets.pop()\n",
        "    elif char == \")\" and open_brackets[-1] == \"(\":\n",
        "        open_brackets.pop()\n",
        "    elif char == \"]\" and open_brackets[-1] == \"[\":\n",
        "        open_brackets.pop()\n",
        "    else:\n",
        "        print(\"your input string is not acceptable\")\n",
        "        flag = zFalse\n",
        "        break\n",
        "if flag:\n",
        "    if open_brackets:\n",
        "        print(\"invalid\")\n",
        "    else:\n",
        "        print(\"valid\")\n",
        "else:\n",
        "    print(\"make your input is right?\")\n",
        "\n",
        "\n",
        "\n",
        "\n",
        "\n",
        "\n"
      ]
    },
    {
      "cell_type": "code",
      "source": [
        "#find possible combinations of string in all length\n",
        "def permutations(text, length, result):\n",
        "    if length == 0:\n",
        "        list_result.append(result[:])\n",
        "        return\n",
        "\n",
        "    for char in text:\n",
        "        if char not in result:\n",
        "            permutations(text, length-1, result + [char])\n",
        "\n",
        "\n",
        "string = input(\"enter the string : \")\n",
        "permutations_library = {}\n",
        "for i in range(1, len(string)+1):\n",
        "    list_result = []\n",
        "    permutations(string, i, [])\n",
        "    permutations_library[f\"{i} length permutations\"] = list_result\n",
        "\n",
        "\n",
        "print(permutations_library)\n",
        "\n"
      ],
      "metadata": {
        "colab": {
          "base_uri": "https://localhost:8080/"
        },
        "id": "eNel9SKByWT-",
        "outputId": "75f6697a-c2e4-4940-abf3-2ae1ffc980d1"
      },
      "execution_count": null,
      "outputs": [
        {
          "output_type": "stream",
          "name": "stdout",
          "text": [
            "enter the string : abc\n",
            "{'1 length permutations': [['a'], ['b'], ['c']], '2 length permutations': [['a', 'b'], ['a', 'c'], ['b', 'a'], ['b', 'c'], ['c', 'a'], ['c', 'b']], '3 length permutations': [['a', 'b', 'c'], ['a', 'c', 'b'], ['b', 'a', 'c'], ['b', 'c', 'a'], ['c', 'a', 'b'], ['c', 'b', 'a']]}\n"
          ]
        }
      ]
    }
  ]
}