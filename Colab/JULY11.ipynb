{
  "nbformat": 4,
  "nbformat_minor": 0,
  "metadata": {
    "colab": {
      "provenance": []
    },
    "kernelspec": {
      "name": "python3",
      "display_name": "Python 3"
    },
    "language_info": {
      "name": "python"
    }
  },
  "cells": [
    {
      "cell_type": "code",
      "execution_count": null,
      "metadata": {
        "colab": {
          "base_uri": "https://localhost:8080/"
        },
        "id": "2q9ejkkDJerz",
        "outputId": "4a750d88-3bad-4ee2-e6d7-fd9c95246430"
      },
      "outputs": [
        {
          "output_type": "stream",
          "name": "stdout",
          "text": [
            "49\n"
          ]
        }
      ],
      "source": [
        "#multiply two numbers without \"*\"\n",
        "n1=7\n",
        "n2=7\n",
        "product=0\n",
        "for i in range(1,n1+1):\n",
        "   product+=n2\n",
        "print(product)\n",
        "\n"
      ]
    },
    {
      "cell_type": "code",
      "source": [
        "#divide two numbers without / and //\n",
        "num1=8\n",
        "num2=2\n",
        "temp=0\n",
        "if num1 < num2:\n",
        "  print(0)\n",
        "else:\n",
        "  rem = num1%num2\n",
        "  for i in range(num1):\n",
        "    temp=(i*num2)+rem\n",
        "    if temp==num1:\n",
        "      print(i)\n",
        "      break\n",
        "\n"
      ],
      "metadata": {
        "colab": {
          "base_uri": "https://localhost:8080/"
        },
        "id": "M-S5C9PWMS4Z",
        "outputId": "615a233d-adea-43f0-f9e3-265826c73575"
      },
      "execution_count": null,
      "outputs": [
        {
          "output_type": "stream",
          "name": "stdout",
          "text": [
            "4\n"
          ]
        }
      ]
    },
    {
      "cell_type": "code",
      "source": [
        "#subtracting two numbers usingg bitwise operator\n",
        "num1=5\n",
        "num2=6\n"
      ],
      "metadata": {
        "id": "KZOCFNmsPdcz"
      },
      "execution_count": null,
      "outputs": []
    },
    {
      "cell_type": "code",
      "source": [
        "#adding two numbers using bitwise operator\n",
        "n1=8\n",
        "n2=7\n",
        "n3=n1|n2\n",
        "print(n3)"
      ],
      "metadata": {
        "colab": {
          "base_uri": "https://localhost:8080/"
        },
        "id": "DrkHvNoIS4K7",
        "outputId": "871d01c1-604f-4fad-8dd7-155fbd2f9e15"
      },
      "execution_count": null,
      "outputs": [
        {
          "output_type": "stream",
          "name": "stdout",
          "text": [
            "15\n"
          ]
        }
      ]
    },
    {
      "cell_type": "code",
      "source": [
        "#to print pattern\n",
        "row = int(input())\n",
        "for i in range(1,row+1):\n",
        "   for j in range(1,i+1):\n",
        "      print(i,end=\" \")\n",
        "   print(\" \")"
      ],
      "metadata": {
        "id": "T-kysdioVQGp",
        "colab": {
          "base_uri": "https://localhost:8080/"
        },
        "outputId": "86f7d77d-1600-4fce-c705-34f6d08600e5"
      },
      "execution_count": null,
      "outputs": [
        {
          "output_type": "stream",
          "name": "stdout",
          "text": [
            "5\n",
            "1  \n",
            "2 2  \n",
            "3 3 3  \n",
            "4 4 4 4  \n",
            "5 5 5 5 5  \n"
          ]
        }
      ]
    },
    {
      "cell_type": "code",
      "source": [],
      "metadata": {
        "id": "gj5JmexHSvAK"
      },
      "execution_count": null,
      "outputs": []
    },
    {
      "cell_type": "code",
      "source": [
        "# to print pattern\n",
        "row = int(input())\n",
        "for i in range(1,row+1):\n",
        "   for j in range(1,i+1):\n",
        "      print(j,end=\" \")\n",
        "   print(\" \")\n"
      ],
      "metadata": {
        "colab": {
          "base_uri": "https://localhost:8080/"
        },
        "id": "3niD4aeDD5nN",
        "outputId": "58538d38-3e39-4c0f-caff-9f8b4ede4c92"
      },
      "execution_count": null,
      "outputs": [
        {
          "output_type": "stream",
          "name": "stdout",
          "text": [
            "5\n",
            "1  \n",
            "1 2  \n",
            "1 2 3  \n",
            "1 2 3 4  \n",
            "1 2 3 4 5  \n"
          ]
        }
      ]
    },
    {
      "cell_type": "code",
      "source": [
        "#to print pattern\n",
        "row=int(input())\n",
        "for i in range(1,row+1):\n",
        "  for j in range(1,  )"
      ],
      "metadata": {
        "id": "DK1nlBLjFp_N"
      },
      "execution_count": null,
      "outputs": []
    }
  ]
}