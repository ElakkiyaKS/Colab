{
  "nbformat": 4,
  "nbformat_minor": 0,
  "metadata": {
    "colab": {
      "provenance": []
    },
    "kernelspec": {
      "name": "python3",
      "display_name": "Python 3"
    },
    "language_info": {
      "name": "python"
    }
  },
  "cells": [
    {
      "cell_type": "code",
      "source": [
        "##############LIST################"
      ],
      "metadata": {
        "id": "6L4rjSDmpqP9"
      },
      "execution_count": null,
      "outputs": []
    },
    {
      "cell_type": "code",
      "execution_count": null,
      "metadata": {
        "colab": {
          "base_uri": "https://localhost:8080/"
        },
        "id": "d_CWlAwrBMC9",
        "outputId": "1031e9e3-89d3-4a56-d661-25bb74b704ff"
      },
      "outputs": [
        {
          "output_type": "execute_result",
          "data": {
            "text/plain": [
              "[1, 2, 3, 'computer', 'apple']"
            ]
          },
          "metadata": {},
          "execution_count": 3
        }
      ],
      "source": [
        "# TO APPEND VALUE IN LIST\n",
        "list = [1,2,3,\"computer\"]\n",
        "list.append(\"apple\")\n",
        "list\n"
      ]
    },
    {
      "cell_type": "code",
      "source": [
        "# TO REMOVE VALUE IN LIST\n",
        "list = [1,2,3,\"apple\"]\n",
        "list.remove(\"apple\")\n",
        "list"
      ],
      "metadata": {
        "colab": {
          "base_uri": "https://localhost:8080/"
        },
        "id": "h-EfelWXBh3h",
        "outputId": "db83310c-60c7-4621-e5ac-5b9b0dbff21c"
      },
      "execution_count": null,
      "outputs": [
        {
          "output_type": "execute_result",
          "data": {
            "text/plain": [
              "[1, 2, 3]"
            ]
          },
          "metadata": {},
          "execution_count": 4
        }
      ]
    },
    {
      "cell_type": "code",
      "source": [
        "# TO POP(DELETE LAST VALUE) IN LIST\n",
        "list = [1,2,3,4,5]\n",
        "list.pop()\n",
        "list"
      ],
      "metadata": {
        "colab": {
          "base_uri": "https://localhost:8080/"
        },
        "id": "PbbJuN7vB4Yk",
        "outputId": "f8719b10-7e92-4674-f538-ccf3c5817636"
      },
      "execution_count": null,
      "outputs": [
        {
          "output_type": "execute_result",
          "data": {
            "text/plain": [
              "[1, 2, 3, 4]"
            ]
          },
          "metadata": {},
          "execution_count": 6
        }
      ]
    },
    {
      "cell_type": "code",
      "source": [
        "#TO REPLACE VALUE IN LIST\n",
        "list = [1,2,3,4]\n",
        "list[3]=5\n",
        "list"
      ],
      "metadata": {
        "colab": {
          "base_uri": "https://localhost:8080/"
        },
        "id": "m3XcvNj8CTlf",
        "outputId": "2de7efcc-cea1-47ab-920f-5c1af0009f18"
      },
      "execution_count": null,
      "outputs": [
        {
          "output_type": "execute_result",
          "data": {
            "text/plain": [
              "[1, 2, 3, 5]"
            ]
          },
          "metadata": {},
          "execution_count": 9
        }
      ]
    },
    {
      "cell_type": "code",
      "source": [
        "#######PROBLEM##########"
      ],
      "metadata": {
        "id": "JWAJOqV-DOoA"
      },
      "execution_count": null,
      "outputs": []
    },
    {
      "cell_type": "code",
      "source": [
        "#to find which divisors of two numbers are same\n",
        "num1=int(input(\"Enter a number:\"))\n",
        "num2=int(input(\"Enter a number:\"))\n",
        "n = max(num1,num2)\n",
        "for i in range(2,n):\n",
        " if(num1%i==0 and num2%i==0):\n",
        "   print(i)"
      ],
      "metadata": {
        "colab": {
          "base_uri": "https://localhost:8080/"
        },
        "id": "iWkXSwMXp9b5",
        "outputId": "87bf79d1-85fd-4896-f755-4a360fb21764"
      },
      "execution_count": null,
      "outputs": [
        {
          "output_type": "stream",
          "name": "stdout",
          "text": [
            "Enter a number:6\n",
            "Enter a number:4\n",
            "2\n"
          ]
        }
      ]
    },
    {
      "cell_type": "code",
      "source": [],
      "metadata": {
        "id": "ixO5av841Hn6"
      },
      "execution_count": null,
      "outputs": []
    }
  ]
}