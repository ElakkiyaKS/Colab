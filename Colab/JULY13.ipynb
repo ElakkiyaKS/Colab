{
  "nbformat": 4,
  "nbformat_minor": 0,
  "metadata": {
    "colab": {
      "provenance": []
    },
    "kernelspec": {
      "name": "python3",
      "display_name": "Python 3"
    },
    "language_info": {
      "name": "python"
    }
  },
  "cells": [
    {
      "cell_type": "code",
      "execution_count": null,
      "metadata": {
        "colab": {
          "base_uri": "https://localhost:8080/"
        },
        "id": "fZ2XSUIGiuXC",
        "outputId": "b061dbb0-e656-44f5-ef22-b0182b0393f0"
      },
      "outputs": [
        {
          "output_type": "stream",
          "name": "stdout",
          "text": [
            "2020\n",
            "its not leap year\n",
            "None\n"
          ]
        }
      ],
      "source": [
        "# TO CHECK WHETHER IT IS LEAP YEAR OR NOT\n",
        "n=int(input())\n",
        "def leap(n):\n",
        "  if n%400==0 and n%100:\n",
        "     print(\"its a leap year\")\n",
        "  else:\n",
        "     print(\"its not leap year\")\n",
        "print(leap(n))\n"
      ]
    },
    {
      "cell_type": "code",
      "source": [
        "#sort an integer list\n",
        "list=[1,5,4,3,2]\n",
        "print(sorted(list))"
      ],
      "metadata": {
        "colab": {
          "base_uri": "https://localhost:8080/"
        },
        "id": "JoIZkEszsJq4",
        "outputId": "19f180f4-4b51-4995-8f20-6add24b13310"
      },
      "execution_count": null,
      "outputs": [
        {
          "output_type": "stream",
          "name": "stdout",
          "text": [
            "[1, 2, 3, 4, 5]\n"
          ]
        }
      ]
    },
    {
      "cell_type": "code",
      "source": [
        "#string compression\n",
        "def compress_string(string):\n",
        " compressed = \"\"\n",
        " count=1\n",
        " prev_char=string[0]\n",
        " for i in range(1,len(string)):\n",
        "    if string[i] == prev_char:\n",
        "      count+=1\n",
        "    else:\n",
        "      compressed +=(prev_char+str(count))*count\n",
        "      count=1\n",
        "      prev_char=string[i]\n",
        " compressed += (prev_char+str(count))*count\n",
        " return compressed\n",
        "string = input(\"enter a string:\")\n",
        "compressed_string = compress_string(string)\n",
        "print(\"compressed_string\",compressed_string)"
      ],
      "metadata": {
        "colab": {
          "base_uri": "https://localhost:8080/"
        },
        "id": "U9SDmj7gb6xr",
        "outputId": "a5629072-d994-4ba1-92e6-a5b21b7732de"
      },
      "execution_count": null,
      "outputs": [
        {
          "output_type": "stream",
          "name": "stdout",
          "text": [
            "enter a string:seeded\n",
            "compressed_string s1e2e2d1e1d1\n"
          ]
        }
      ]
    },
    {
      "cell_type": "code",
      "source": [
        "#to split the function\n",
        "string=(input(\"Enter two numbers:\")).split()\n",
        "print(string)"
      ],
      "metadata": {
        "colab": {
          "base_uri": "https://localhost:8080/"
        },
        "id": "xk3dzy-xTUG2",
        "outputId": "eae39d4d-9bac-43ff-846c-febc0208c08e"
      },
      "execution_count": null,
      "outputs": [
        {
          "output_type": "stream",
          "name": "stdout",
          "text": [
            "Enter two numbers:5 6 4 7\n",
            "['5', '6', '4', '7']\n"
          ]
        }
      ]
    },
    {
      "cell_type": "code",
      "source": [
        "#to sort list\n",
        "l1=[5,3,4,1,2]\n",
        "#method1\n",
        "print(l1)\n",
        "for i in range(len(l1)):\n",
        "   for j in range(i,len(l1)):\n",
        "     if l1[i]>=l1[j]:\n",
        "       l1[i],l1[j] = l1[j],l1[i]\n",
        "print(l1)\n",
        "#method2\n",
        "print(sorted(l1))l\n",
        "\n",
        "\n"
      ],
      "metadata": {
        "colab": {
          "base_uri": "https://localhost:8080/"
        },
        "id": "FIhvx4CufvZx",
        "outputId": "87c2fad8-b164-475f-c6c2-61853b5c2f29"
      },
      "execution_count": null,
      "outputs": [
        {
          "output_type": "stream",
          "name": "stdout",
          "text": [
            "[5, 3, 4, 1, 2]\n",
            "[1, 2, 3, 4, 5]\n",
            "[1, 2, 3, 4, 5]\n"
          ]
        }
      ]
    },
    {
      "cell_type": "code",
      "source": [
        "#preparing calculator console\n",
        "#main code function\n",
        "def main():\n",
        "   base_operand,operator,secondary_operator = input(\"calculation expression with space:\")\n",
        "   if operator == \"+\":\n",
        "       addition(int(base_operand),int(secondary_operand))\n",
        "   pass\n",
        "#functions for arithmetic operation\n",
        "def addition(primary,secondary):\n",
        "   pass\n",
        "def subtraction(primary,secondary):\n",
        "   pass\n",
        "def multiplication(primary,secondary):\n",
        "   pass\n",
        "def divison(primary,secondary):\n",
        "   pass\n",
        "\n",
        "\n",
        "\n",
        "\n",
        "\n",
        "\n",
        "\n",
        "\n"
      ],
      "metadata": {
        "id": "hLQ9ECEcj5rG"
      },
      "execution_count": null,
      "outputs": []
    }
  ]
}