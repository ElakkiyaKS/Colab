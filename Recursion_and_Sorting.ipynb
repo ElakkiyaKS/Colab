{
  "nbformat": 4,
  "nbformat_minor": 0,
  "metadata": {
    "colab": {
      "provenance": [],
      "authorship_tag": "ABX9TyMoujzCNDgBRNlTtjZkaNiY",
      "include_colab_link": true
    },
    "kernelspec": {
      "name": "python3",
      "display_name": "Python 3"
    },
    "language_info": {
      "name": "python"
    }
  },
  "cells": [
    {
      "cell_type": "markdown",
      "metadata": {
        "id": "view-in-github",
        "colab_type": "text"
      },
      "source": [
        "<a href=\"https://colab.research.google.com/github/ElakkiyaKS/Colab/blob/main/Recursion_and_Sorting.ipynb\" target=\"_parent\"><img src=\"https://colab.research.google.com/assets/colab-badge.svg\" alt=\"Open In Colab\"/></a>"
      ]
    },
    {
      "cell_type": "code",
      "execution_count": null,
      "metadata": {
        "colab": {
          "base_uri": "https://localhost:8080/"
        },
        "id": "RG1QTbaMyuv0",
        "outputId": "e6afc9ba-7d25-449e-c7e5-a005fa2ae9ec"
      },
      "outputs": [
        {
          "output_type": "stream",
          "name": "stdout",
          "text": [
            "5\n",
            "120\n"
          ]
        }
      ],
      "source": [
        "#factorial using recursion\n",
        "def factorial(num):\n",
        "  if num<=1:\n",
        "    return 1\n",
        "  else:\n",
        "    return num * factorial(num-1)\n",
        "num = int(input())\n",
        "if num<0:\n",
        "  prnt(\"must be positive\")\n",
        "elif(num==0):\n",
        "  print(\"factorial of 0 is always 1\")\n",
        "else:\n",
        "  print(factorial(num))\n"
      ]
    },
    {
      "cell_type": "code",
      "source": [
        "#fibonacci using recursion\n",
        "def fibo(num):\n",
        "  if num<=1:\n",
        "    return num\n",
        "  else:\n",
        "    return (fibo(num-1)+fibo(num-2))\n",
        "num = int(input())\n",
        "for i in range(0,num):\n",
        "  print(fibo(i),end=\" \")"
      ],
      "metadata": {
        "id": "z_DikDMr3IRz",
        "colab": {
          "base_uri": "https://localhost:8080/"
        },
        "outputId": "05277f14-5489-457b-c3ea-7f3300b6abc2"
      },
      "execution_count": null,
      "outputs": [
        {
          "output_type": "stream",
          "name": "stdout",
          "text": [
            "10\n",
            "0 1 1 2 3 5 8 13 21 34 "
          ]
        }
      ]
    },
    {
      "cell_type": "code",
      "source": [
        "#Selection Sort\n",
        "def selectionsort(arr):\n",
        "  n = len(arr)\n",
        "  for i in range(n):\n",
        "    min = i\n",
        "    for j in range(i+1,n):\n",
        "      if arr[j] < arr[min]:\n",
        "        min = j\n",
        "    arr[i],arr[min] = arr[min],arr[i]\n",
        "arr = [99,79,29,69,45]\n",
        "selectionsort(arr)\n",
        "print(arr)\n"
      ],
      "metadata": {
        "colab": {
          "base_uri": "https://localhost:8080/"
        },
        "id": "o4B7-7jqGfGa",
        "outputId": "2cee45a0-08ed-4931-e23e-2340397876ea"
      },
      "execution_count": null,
      "outputs": [
        {
          "output_type": "stream",
          "name": "stdout",
          "text": [
            "[29, 45, 69, 79, 99]\n"
          ]
        }
      ]
    },
    {
      "cell_type": "code",
      "source": [
        "def selectionsort(arr):\n",
        "  n = len(arr)\n",
        "  for i in range(n):\n",
        "    min = i\n",
        "    for j in range(i+1,n):\n",
        "      if arr[j] < arr[min]:\n",
        "        min = j\n",
        "    arr[i],arr[min] = arr[min],arr[i]\n",
        "arr = [99,79,29,69,45]\n",
        "selectionsort(arr)\n",
        "print(arr)\n",
        "print\n"
      ],
      "metadata": {
        "colab": {
          "base_uri": "https://localhost:8080/"
        },
        "id": "z4M1zBzvNkfU",
        "outputId": "e18fff1a-0520-445e-92ed-c97183fec190"
      },
      "execution_count": null,
      "outputs": [
        {
          "output_type": "stream",
          "name": "stdout",
          "text": [
            "[29, 45, 69, 79, 99]\n"
          ]
        }
      ]
    },
    {
      "cell_type": "code",
      "source": [
        "#insertion sort\n",
        "a = [5,3,6,8,1]\n",
        "n = len(a)\n",
        "for i in range(1, n):\n",
        "    temp = a[i]\n",
        "    j = i - 1\n",
        "    while j >= 0 and a[j] > temp:\n",
        "        a[j + 1] = a[j]\n",
        "        j -= 1\n",
        "    a[j + 1] = temp\n",
        "print(a)"
      ],
      "metadata": {
        "id": "lNI5Ex-HFH0y",
        "colab": {
          "base_uri": "https://localhost:8080/"
        },
        "outputId": "c9cad638-813c-4441-ff9e-31dafcaca2a4"
      },
      "execution_count": null,
      "outputs": [
        {
          "output_type": "stream",
          "name": "stdout",
          "text": [
            "[1, 3, 5, 6, 8]\n"
          ]
        }
      ]
    }
  ]
}