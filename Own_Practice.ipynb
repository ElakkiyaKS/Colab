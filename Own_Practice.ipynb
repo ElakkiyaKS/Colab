{
  "nbformat": 4,
  "nbformat_minor": 0,
  "metadata": {
    "colab": {
      "provenance": [],
      "authorship_tag": "ABX9TyO77RYXZmdaglrRvF7K/Q3w",
      "include_colab_link": true
    },
    "kernelspec": {
      "name": "python3",
      "display_name": "Python 3"
    },
    "language_info": {
      "name": "python"
    }
  },
  "cells": [
    {
      "cell_type": "markdown",
      "metadata": {
        "id": "view-in-github",
        "colab_type": "text"
      },
      "source": [
        "<a href=\"https://colab.research.google.com/github/ElakkiyaKS/Colab/blob/main/Own_Practice.ipynb\" target=\"_parent\"><img src=\"https://colab.research.google.com/assets/colab-badge.svg\" alt=\"Open In Colab\"/></a>"
      ]
    },
    {
      "cell_type": "code",
      "execution_count": null,
      "metadata": {
        "colab": {
          "base_uri": "https://localhost:8080/"
        },
        "id": "kzrgk6iebqMd",
        "outputId": "9ab9b41e-1282-4320-fcad-247ad94c5f0e"
      },
      "outputs": [
        {
          "name": "stdout",
          "output_type": "stream",
          "text": [
            "5\n"
          ]
        },
        {
          "output_type": "execute_result",
          "data": {
            "text/plain": [
              "120"
            ]
          },
          "metadata": {},
          "execution_count": 13
        }
      ],
      "source": [
        "#using function\n",
        "def factorial(n):\n",
        "   if n == 1:\n",
        "     return n\n",
        "   else:\n",
        "     return n*factorial(n-1)\n",
        "num = int(input())\n",
        "factorial(num)"
      ]
    },
    {
      "cell_type": "code",
      "source": [
        "#without using function\n",
        "num = int(input(\"Enter a number: \"))\n",
        "factorial = 1\n",
        "\n",
        "if num < 0:\n",
        "    print(\"Factorial does not exist for negative numbers.\")\n",
        "elif num == 0:\n",
        "    print(\"The factorial of 0 is 1\")\n",
        "else:\n",
        "    for i in range(1, num + 1):\n",
        "        factorial *= i\n",
        "    print(f\"The factorial of {num} is {factorial}\")\n"
      ],
      "metadata": {
        "colab": {
          "base_uri": "https://localhost:8080/"
        },
        "id": "6Aq2MxmweGk2",
        "outputId": "b2f98fdc-ed4e-4f9e-edca-416d21a3b271"
      },
      "execution_count": null,
      "outputs": [
        {
          "output_type": "stream",
          "name": "stdout",
          "text": [
            "Enter a number: 5\n",
            "The factorial of 5 is 120\n"
          ]
        }
      ]
    },
    {
      "cell_type": "code",
      "source": [
        "d = {}\n",
        "size=int(input())\n",
        "for i in range(size):\n",
        "  key = (input())\n",
        "  value = (input())\n",
        "  d[key]= value\n",
        "  print(d)"
      ],
      "metadata": {
        "colab": {
          "base_uri": "https://localhost:8080/"
        },
        "id": "VDEuXFKCJFrw",
        "outputId": "6bc03807-8027-441d-a189-940f5d89aa13"
      },
      "execution_count": null,
      "outputs": [
        {
          "output_type": "stream",
          "name": "stdout",
          "text": [
            "3\n",
            "1\n",
            "apple\n",
            "{'1': 'apple'}\n",
            "2\n",
            "orange\n",
            "{'1': 'apple', '2': 'orange'}\n",
            "1\n",
            "kiwi\n",
            "{'1': 'kiwi', '2': 'orange'}\n"
          ]
        }
      ]
    },
    {
      "cell_type": "code",
      "source": [
        "#to sort the given dictionary using values\n",
        "d = {}\n",
        "n = int(input())\n",
        "for x in range(n):\n",
        "  key = input()\n",
        "  value = input()\n",
        "  d[key]=value\n",
        "  print(d)\n",
        "print(sorted(d.values()))\n"
      ],
      "metadata": {
        "colab": {
          "base_uri": "https://localhost:8080/"
        },
        "id": "Odz9khDKsFRi",
        "outputId": "ee78b7d0-53ab-496f-e52e-21f1aad20004"
      },
      "execution_count": null,
      "outputs": [
        {
          "output_type": "stream",
          "name": "stdout",
          "text": [
            "4\n",
            "1\n",
            "apple\n",
            "{'1': 'apple'}\n",
            "2\n",
            "kiwi\n",
            "{'1': 'apple', '2': 'kiwi'}\n",
            "3\n",
            "zebra\n",
            "{'1': 'apple', '2': 'kiwi', '3': 'zebra'}\n",
            "4\n",
            "orange\n",
            "{'1': 'apple', '2': 'kiwi', '3': 'zebra', '4': 'orange'}\n",
            "['apple', 'kiwi', 'orange', 'zebra']\n"
          ]
        }
      ]
    },
    {
      "cell_type": "code",
      "source": [
        "#\n",
        "list=[]\n",
        "n = int(input())\n",
        "for i in range(n):\n",
        "  ele = int(input())\n",
        "  list.append(ele)\n",
        "print(list)\n"
      ],
      "metadata": {
        "colab": {
          "base_uri": "https://localhost:8080/"
        },
        "id": "4pYwYZzA99SG",
        "outputId": "8081d955-df09-495d-f8a2-eb14f8d9dc8d"
      },
      "execution_count": null,
      "outputs": [
        {
          "output_type": "stream",
          "name": "stdout",
          "text": [
            "5\n",
            "1\n",
            "2\n",
            "3\n",
            "4\n",
            "5\n",
            "[1, 2, 3, 4, 5]\n"
          ]
        }
      ]
    },
    {
      "cell_type": "code",
      "source": [
        "l=[2,5,12,45,87]\n",
        "count=0\n",
        "for i in l:\n",
        "  count+=i\n",
        "  avg=count/len(l)\n",
        "print(count)\n",
        "print(avg)\n",
        "\n"
      ],
      "metadata": {
        "colab": {
          "base_uri": "https://localhost:8080/"
        },
        "id": "f6llg8ESMVkq",
        "outputId": "c4830df5-fa95-4c87-e86c-d90d86f98c86"
      },
      "execution_count": null,
      "outputs": [
        {
          "output_type": "stream",
          "name": "stdout",
          "text": [
            "151\n",
            "30.2\n"
          ]
        }
      ]
    },
    {
      "cell_type": "code",
      "source": [
        "def Reverse(l):\n",
        "  new_list=l[::-1]\n",
        "  return new_list\n",
        "l=[4,7,8,23,56]\n",
        "Reverse(l)"
      ],
      "metadata": {
        "colab": {
          "base_uri": "https://localhost:8080/"
        },
        "id": "ebvG4zVzRUKf",
        "outputId": "d23b3872-35a8-4788-da9c-7a1834005296"
      },
      "execution_count": null,
      "outputs": [
        {
          "output_type": "execute_result",
          "data": {
            "text/plain": [
              "[56, 23, 8, 7, 4]"
            ]
          },
          "metadata": {},
          "execution_count": 9
        }
      ]
    },
    {
      "cell_type": "code",
      "source": [
        "n=[1,4,5,7,8]\n",
        "print(n.sort())"
      ],
      "metadata": {
        "colab": {
          "base_uri": "https://localhost:8080/"
        },
        "id": "Jcst0KAGUlv4",
        "outputId": "529fc32b-549c-4e7e-c8a1-9318e8bc1cbe"
      },
      "execution_count": null,
      "outputs": [
        {
          "output_type": "stream",
          "name": "stdout",
          "text": [
            "None\n"
          ]
        }
      ]
    },
    {
      "cell_type": "code",
      "source": [
        "num = 12345\n",
        "list = []\n",
        "while num > 0:\n",
        "    rem = num % 10\n",
        "    list.append(rem)\n",
        "    num = num // 10\n",
        "print(list)\n",
        "\n"
      ],
      "metadata": {
        "colab": {
          "base_uri": "https://localhost:8080/"
        },
        "id": "3HPaTGUEjSqL",
        "outputId": "5d4d590b-72f8-43fd-a7f2-80c8399d64c7"
      },
      "execution_count": null,
      "outputs": [
        {
          "output_type": "stream",
          "name": "stdout",
          "text": [
            "[5, 4, 3, 2, 1]\n"
          ]
        }
      ]
    },
    {
      "cell_type": "code",
      "source": [
        "num = int(input())\n",
        "for i in range"
      ],
      "metadata": {
        "id": "hx2EXFjdnG_W"
      },
      "execution_count": null,
      "outputs": []
    },
    {
      "cell_type": "code",
      "source": [
        "#to remove duplicates\n",
        "list = [7,8,9,7,4,5,2,]\n",
        "list1 = []\n",
        "for i in list:\n",
        "  if i not in list1:\n",
        "    list1.append(i)\n",
        "print(list1)"
      ],
      "metadata": {
        "colab": {
          "base_uri": "https://localhost:8080/"
        },
        "id": "J1ohgvLxFyzE",
        "outputId": "220d593c-b3aa-4571-e99b-71c77353481b"
      },
      "execution_count": null,
      "outputs": [
        {
          "output_type": "stream",
          "name": "stdout",
          "text": [
            "[7, 8, 9, 4, 5, 2]\n"
          ]
        }
      ]
    },
    {
      "cell_type": "code",
      "source": [
        "#to remove duplicate from the list using \"SET\"\n",
        "a = [3,5,4,2,3,6,7,1,5,8,0]\n",
        "print(set(a))\n",
        "p"
      ],
      "metadata": {
        "colab": {
          "base_uri": "https://localhost:8080/"
        },
        "id": "k8gafb9ML0Ru",
        "outputId": "f99ae693-a7fc-4c69-ff73-1a16723f5c86"
      },
      "execution_count": null,
      "outputs": [
        {
          "output_type": "stream",
          "name": "stdout",
          "text": [
            "{0, 1, 2, 3, 4, 5, 6, 7, 8}\n"
          ]
        }
      ]
    },
    {
      "cell_type": "code",
      "source": [
        "#to count the number of vowels\n",
        "string = input()\n",
        "count = 0\n",
        "for char in string:\n",
        "   if char in 'aeiou':\n",
        "      count = count+1\n",
        "print(count)"
      ],
      "metadata": {
        "colab": {
          "base_uri": "https://localhost:8080/"
        },
        "id": "iS2XmTB9Kw7T",
        "outputId": "8c6ce2b7-ef0a-47f7-c557-e9ff089fc67e"
      },
      "execution_count": null,
      "outputs": [
        {
          "output_type": "stream",
          "name": "stdout",
          "text": [
            "apple\n",
            "2\n"
          ]
        }
      ]
    },
    {
      "cell_type": "code",
      "source": [
        "#to calculate sum of all even numbers in the list\n",
        "list = [1,2,3,4,5]\n",
        "x = []\n",
        "for i in list:\n",
        "  if i%2 == 0:\n",
        "    x.append(i)\n",
        "print(sum(x))\n"
      ],
      "metadata": {
        "id": "Z8lWaT8HLJtC",
        "colab": {
          "base_uri": "https://localhost:8080/"
        },
        "outputId": "9bd4a1ba-e340-4fa6-a0d5-21a9dab47a58"
      },
      "execution_count": null,
      "outputs": [
        {
          "output_type": "stream",
          "name": "stdout",
          "text": [
            "6\n"
          ]
        }
      ]
    },
    {
      "cell_type": "code",
      "source": [
        "#to find the second largest number in list\n",
        "list = [5,3,4,2,1]\n",
        "a = sorted(list)\n",
        "print(a)\n",
        "print(a[-20])\n"
      ],
      "metadata": {
        "colab": {
          "base_uri": "https://localhost:8080/"
        },
        "id": "fPEqeV4kb6zy",
        "outputId": "bcf615ae-9249-45d1-e553-7a8ed9498ba2"
      },
      "execution_count": null,
      "outputs": [
        {
          "output_type": "stream",
          "name": "stdout",
          "text": [
            "[1, 2, 3, 4, 5]\n",
            "4\n"
          ]
        }
      ]
    },
    {
      "cell_type": "code",
      "source": [
        "#to check whether given string is palindrome or not\n",
        "a = input()\n",
        "b = a[::-1]\n",
        "if a == b:\n",
        "  print(\"it is palindrome\")\n",
        "else:\n",
        "  print(\"not a palindrome\")"
      ],
      "metadata": {
        "colab": {
          "base_uri": "https://localhost:8080/"
        },
        "id": "IkQ9SiKLGUY3",
        "outputId": "44ad347a-dbdd-49e5-baaa-616609b4bc23"
      },
      "execution_count": null,
      "outputs": [
        {
          "output_type": "stream",
          "name": "stdout",
          "text": [
            "malayalam\n",
            "it is palindrome\n"
          ]
        }
      ]
    },
    {
      "cell_type": "code",
      "source": [
        "#to merge the two dictionaries\n",
        "m = {'a': 1, 'b': 2}\n",
        "n = {'b': 3, 'c': 4}\n",
        "m.update(n)\n",
        "print(m)\n",
        "\n"
      ],
      "metadata": {
        "colab": {
          "base_uri": "https://localhost:8080/"
        },
        "id": "sFCBy3oPPevr",
        "outputId": "8399aae4-fcf0-4f00-d0d7-1f34eb068385"
      },
      "execution_count": null,
      "outputs": [
        {
          "output_type": "stream",
          "name": "stdout",
          "text": [
            "{'a': 1, 'b': 3, 'c': 4}\n"
          ]
        }
      ]
    },
    {
      "cell_type": "code",
      "source": [
        "#sorting the string\n",
        "string = \"paper true soap floppy flowers\"\n",
        "a = string.split()\n",
        "print(a)\n",
        "b = sorted(a,key = lambda x: x[0])\n",
        "print(b)"
      ],
      "metadata": {
        "id": "r2zQ71_oRh2k",
        "colab": {
          "base_uri": "https://localhost:8080/"
        },
        "outputId": "44501e07-10f7-4774-a6cf-ab2110c63f4d"
      },
      "execution_count": null,
      "outputs": [
        {
          "output_type": "stream",
          "name": "stdout",
          "text": [
            "['paper', 'true', 'soap', 'floppy', 'flowers']\n",
            "['floppy', 'flowers', 'paper', 'soap', 'true']\n"
          ]
        }
      ]
    },
    {
      "cell_type": "code",
      "source": [
        "# position of x with index\n",
        "arr = list(map(int, input().split()))\n",
        "n = int(input())\n",
        "for i in arr:\n",
        "  if i==n:\n",
        "    print(arr.index(n))"
      ],
      "metadata": {
        "colab": {
          "base_uri": "https://localhost:8080/"
        },
        "id": "iYA46naplp5A",
        "outputId": "1f25b01e-a62d-4698-86fb-d91633e06910"
      },
      "execution_count": null,
      "outputs": [
        {
          "output_type": "stream",
          "name": "stdout",
          "text": [
            "1 2 3 4 5\n",
            "2\n",
            "1\n"
          ]
        }
      ]
    },
    {
      "cell_type": "code",
      "source": [
        "N = int(input())\n",
        "a = []\n",
        "if N%2!=0:\n",
        "  print(\"pairing isn't possible\")\n",
        "for i in range(1,N+1):\n",
        "  a.append(i)\n",
        "print(a)\n",
        "b = len(a)//2\n",
        "print(b)"
      ],
      "metadata": {
        "colab": {
          "base_uri": "https://localhost:8080/"
        },
        "id": "03tYA8N4HBlF",
        "outputId": "65139698-c9ae-4965-c4e8-933e45b0ce58"
      },
      "execution_count": null,
      "outputs": [
        {
          "output_type": "stream",
          "name": "stdout",
          "text": [
            "4\n",
            "[1, 2, 3, 4]\n",
            "2\n"
          ]
        }
      ]
    },
    {
      "cell_type": "code",
      "source": [
        "#3.\n",
        "initial=int(input(\"Enter no of litres in car:\"))\n",
        "bunks=int(input(\"Enter no of bunks:\"))\n",
        "dist=[]\n",
        "capacity=[]\n",
        "for i in range(1,bunks+1):\n",
        "    dist.append(int(input(f\"enter the distance of {i} bunk:\")))\n",
        "    capacity.append(int(input(f\"enter the capacity of {i} bunk:\")))\n",
        "print(\"remaining petrol in car is \",(initial + sum(capacity))-(sum(dist)),\"litres\")"
      ],
      "metadata": {
        "colab": {
          "base_uri": "https://localhost:8080/"
        },
        "id": "nzGsSyD2L-GG",
        "outputId": "3dbf62e0-c0e1-4e8b-8280-cb2c13f66e38"
      },
      "execution_count": null,
      "outputs": [
        {
          "output_type": "stream",
          "name": "stdout",
          "text": [
            "Enter no of litres in car:2\n",
            "Enter no of bunks:3\n",
            "enter the distance of 1 bunk:1\n",
            "enter the capacity of 1 bunk:6\n",
            "enter the distance of 2 bunk:5\n",
            "enter the capacity of 2 bunk:4\n",
            "enter the distance of 3 bunk:3\n",
            "enter the capacity of 3 bunk:2\n",
            "remaining petrol in car is  5 litres\n"
          ]
        }
      ]
    },
    {
      "cell_type": "code",
      "source": [
        "input = list(int ,input().split())\n",
        "k = int(input())\n"
      ],
      "metadata": {
        "id": "TtJrV5ySoSI7"
      },
      "execution_count": null,
      "outputs": []
    }
  ]
}