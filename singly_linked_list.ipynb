{
  "nbformat": 4,
  "nbformat_minor": 0,
  "metadata": {
    "colab": {
      "provenance": [],
      "authorship_tag": "ABX9TyP/cAOt/IJ8IOm8hatJfCay",
      "include_colab_link": true
    },
    "kernelspec": {
      "name": "python3",
      "display_name": "Python 3"
    },
    "language_info": {
      "name": "python"
    }
  },
  "cells": [
    {
      "cell_type": "markdown",
      "metadata": {
        "id": "view-in-github",
        "colab_type": "text"
      },
      "source": [
        "<a href=\"https://colab.research.google.com/github/ElakkiyaKS/Mermaid/blob/main/singly_linked_list.ipynb\" target=\"_parent\"><img src=\"https://colab.research.google.com/assets/colab-badge.svg\" alt=\"Open In Colab\"/></a>"
      ]
    },
    {
      "cell_type": "code",
      "execution_count": null,
      "metadata": {
        "colab": {
          "base_uri": "https://localhost:8080/"
        },
        "id": "kiwmK-3e35pD",
        "outputId": "2b8e1c85-b5a0-4ab9-d913-939661ea0e21"
      },
      "outputs": [
        {
          "output_type": "stream",
          "name": "stdout",
          "text": [
            "3\n",
            "1\n",
            "2\n",
            "3\n",
            "1 2 3 "
          ]
        }
      ],
      "source": [
        "class Node:\n",
        "    def __init__(self, data):\n",
        "       self.data = data\n",
        "       self.next = None\n",
        "\n",
        "class LinkedList:\n",
        "    def __init__(self):\n",
        "        self.head = None\n",
        "        self.last_node = None\n",
        "\n",
        "    def append(self, data):\n",
        "        if self.last_node is None:\n",
        "            self.head = Node(data)\n",
        "            self.last_node = self.head\n",
        "        else:\n",
        "            self.last_node.next = Node(data)\n",
        "            self.last_node = self.last_node.next\n",
        "\n",
        "    def display(self):\n",
        "        current = self.head\n",
        "        while current is not None:\n",
        "            print(current.data, end = ' ')\n",
        "            current = current.next\n",
        "\n",
        "obj = LinkedList()\n",
        "n = int(input())\n",
        "for i in range(n):\n",
        "    data = int(input())\n",
        "    obj.append(data)\n",
        "obj.display()\n",
        "n"
      ]
    },
    {
      "cell_type": "code",
      "source": [
        "class Node:\n",
        "  def __init__(self,data):\n",
        "    self.data = data\n",
        "    self.next = None\n",
        "class linkedlist:\n",
        "  def __init__(self):\n",
        "    self.head = None\n",
        "  def insert(self,data):\n",
        "    self.head = Node(data)\n",
        "\n"
      ],
      "metadata": {
        "id": "fm0LK29_N21a"
      },
      "execution_count": null,
      "outputs": []
    }
  ]
}