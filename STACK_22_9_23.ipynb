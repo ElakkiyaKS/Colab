{
  "cells": [
    {
      "cell_type": "markdown",
      "metadata": {
        "id": "view-in-github",
        "colab_type": "text"
      },
      "source": [
        "<a href=\"https://colab.research.google.com/github/ElakkiyaKS/Colab/blob/main/STACK_22_9_23.ipynb\" target=\"_parent\"><img src=\"https://colab.research.google.com/assets/colab-badge.svg\" alt=\"Open In Colab\"/></a>"
      ]
    },
    {
      "cell_type": "code",
      "execution_count": null,
      "metadata": {
        "colab": {
          "base_uri": "https://localhost:8080/"
        },
        "id": "kVFcdhCg_UhA",
        "outputId": "b9b5fee2-beee-4a80-e67b-bcc6e0e7ca01"
      },
      "outputs": [
        {
          "name": "stdout",
          "output_type": "stream",
          "text": [
            "[10, 20, 30]\n"
          ]
        }
      ],
      "source": [
        "#appending in stack\n",
        "stack = []\n",
        "stack.append(10)\n",
        "stack.append(20)\n",
        "stack.append(30)\n",
        "print(stack)"
      ]
    },
    {
      "cell_type": "code",
      "execution_count": null,
      "metadata": {
        "colab": {
          "base_uri": "https://localhost:8080/"
        },
        "id": "EbKTLTUDAEli",
        "outputId": "3a8565e8-266c-468c-8559-9ece2d27dbb4"
      },
      "outputs": [
        {
          "name": "stdout",
          "output_type": "stream",
          "text": [
            "non empty\n"
          ]
        }
      ],
      "source": [
        "#to check whether stack is empty or not(method1)\n",
        "stack = [10,20,30]\n",
        "if len(stack) == 0:\n",
        "  print(\"empty\")\n",
        "else:\n",
        "  print(\"non empty\")"
      ]
    },
    {
      "cell_type": "code",
      "execution_count": null,
      "metadata": {
        "colab": {
          "base_uri": "https://localhost:8080/"
        },
        "id": "kxJHotu4BS-E",
        "outputId": "9e08a66f-b7f1-492d-9827-9db37487d611"
      },
      "outputs": [
        {
          "name": "stdout",
          "output_type": "stream",
          "text": [
            "non empty\n"
          ]
        }
      ],
      "source": [
        "#to check whether stack is empty or not(method2)\n",
        "stack = [10,20,30]\n",
        "if not stack:\n",
        "  print(\"empty\")\n",
        "else:\n",
        "  print(\"non empty\")"
      ]
    },
    {
      "cell_type": "code",
      "execution_count": null,
      "metadata": {
        "colab": {
          "base_uri": "https://localhost:8080/"
        },
        "id": "ALUvx-njBsZM",
        "outputId": "c0f858bc-5a4e-4ee8-d5f4-59caf00ee233"
      },
      "outputs": [
        {
          "name": "stdout",
          "output_type": "stream",
          "text": [
            "30\n"
          ]
        }
      ],
      "source": [
        "#to print last element in stack\n",
        "stack = [10,20,30]\n",
        "print(stack[-1])"
      ]
    },
    {
      "cell_type": "code",
      "execution_count": null,
      "metadata": {
        "colab": {
          "base_uri": "https://localhost:8080/"
        },
        "id": "6s9CpJ8xCF34",
        "outputId": "46502f71-2516-47eb-8071-e2acea3e3628"
      },
      "outputs": [
        {
          "name": "stdout",
          "output_type": "stream",
          "text": [
            "deque([])\n"
          ]
        }
      ],
      "source": [
        "#to create a list in collection module\n",
        "import collections\n",
        "stack = collections.deque()\n",
        "print(stack)"
      ]
    },
    {
      "cell_type": "code",
      "execution_count": null,
      "metadata": {
        "colab": {
          "base_uri": "https://localhost:8080/"
        },
        "id": "IlxfhRxtCiwF",
        "outputId": "5cb92001-0387-4037-8c32-49a458bd842c"
      },
      "outputs": [
        {
          "name": "stdout",
          "output_type": "stream",
          "text": [
            "deque([10, 20])\n"
          ]
        }
      ],
      "source": [
        "#to do operations in new list created in collection module\n",
        "import collections\n",
        "stack = collections.deque()\n",
        "stack.append(10)\n",
        "stack.append(20)\n",
        "print(stack)\n"
      ]
    },
    {
      "cell_type": "code",
      "execution_count": null,
      "metadata": {
        "id": "mkrOtJP3DGDl"
      },
      "outputs": [],
      "source": [
        "#to create an empty list using queue in stack\n",
        "import queue\n",
        "stack = queue.LifoQueue()"
      ]
    },
    {
      "cell_type": "code",
      "execution_count": 2,
      "metadata": {
        "colab": {
          "base_uri": "https://localhost:8080/"
        },
        "id": "QpbSI8XNGaMn",
        "outputId": "82252278-599d-4158-fd97-a6e7a909a0c5"
      },
      "outputs": [
        {
          "name": "stdout",
          "output_type": "stream",
          "text": [
            "Enter a choice(1/2/3/4):1\n"
          ]
        }
      ],
      "source": [
        "choice = int(input(\"Enter a choice(1/2/3/4):\"))\n",
        "stack = []\n",
        "def push():\n",
        "  a = int(input())\n",
        "  stack.append(a)\n",
        "  if choice == 1:\n",
        "    return push()\n",
        "def pop():\n",
        "  stack.pop()\n",
        "  if choice == 2:\n",
        "    return (pop())\n",
        "def peek():\n",
        "  stack.peek()\n",
        "  if choice == 3:\n",
        "    return (peek())\n",
        "def isempty():\n",
        "  if len(stack) == 0:\n",
        "    print(\"empty\")\n",
        "  else:\n",
        "    print(\"not empty\")\n",
        "  if choice == 4:\n",
        "    return isempty()\n",
        "\n"
      ]
    },
    {
      "cell_type": "code",
      "execution_count": null,
      "metadata": {
        "id": "1iPYtdvMH7gq"
      },
      "outputs": [],
      "source": []
    }
  ],
  "metadata": {
    "colab": {
      "provenance": [],
      "authorship_tag": "ABX9TyMuCAzPpKHmQoZ3eKgWLxzE",
      "include_colab_link": true
    },
    "kernelspec": {
      "display_name": "Python 3",
      "name": "python3"
    },
    "language_info": {
      "name": "python"
    }
  },
  "nbformat": 4,
  "nbformat_minor": 0
}