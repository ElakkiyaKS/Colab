{
  "nbformat": 4,
  "nbformat_minor": 0,
  "metadata": {
    "colab": {
      "provenance": [],
      "authorship_tag": "ABX9TyOEBKbUTbQIdnc7G+BsQl3u",
      "include_colab_link": true
    },
    "kernelspec": {
      "name": "python3",
      "display_name": "Python 3"
    },
    "language_info": {
      "name": "python"
    }
  },
  "cells": [
    {
      "cell_type": "markdown",
      "metadata": {
        "id": "view-in-github",
        "colab_type": "text"
      },
      "source": [
        "<a href=\"https://colab.research.google.com/github/ElakkiyaKS/Colab/blob/main/Jan31.ipynb\" target=\"_parent\"><img src=\"https://colab.research.google.com/assets/colab-badge.svg\" alt=\"Open In Colab\"/></a>"
      ]
    },
    {
      "cell_type": "code",
      "execution_count": null,
      "metadata": {
        "colab": {
          "base_uri": "https://localhost:8080/"
        },
        "id": "RFQZsbTju3ql",
        "outputId": "820ad6c8-e5b4-4b6f-c0c4-6d2eee6dfe20"
      },
      "outputs": [
        {
          "output_type": "stream",
          "name": "stdout",
          "text": [
            "i love covai\n",
            "['i', 'love', 'covai']\n",
            "5\n"
          ]
        }
      ],
      "source": [
        "#to find length of last word of sentence\n",
        "n = input()\n",
        "n1 = n.split()\n",
        "print(n1)\n",
        "last_index = n1[-1]\n",
        "for i in last_index:\n",
        "  length = len(last_index)\n",
        "print(length)"
      ]
    },
    {
      "cell_type": "code",
      "source": [
        "string = input()\n",
        "corner_string = input()\n",
        "str1 = string.split()\n",
        "corner1 = corner_string.split()\n",
        "print(str1)\n",
        "print(corner1)\n",
        "a = str1[0]\n",
        "b = corner1[-1]\n",
        "if a == b:\n",
        "  print(\"yes\")\n",
        "else:\n",
        "  print(\"no\")"
      ],
      "metadata": {
        "colab": {
          "base_uri": "https://localhost:8080/"
        },
        "id": "MPAisx-X1mxD",
        "outputId": "95343769-5ec4-4248-e10d-944ebe585b98"
      },
      "execution_count": null,
      "outputs": [
        {
          "output_type": "stream",
          "name": "stdout",
          "text": [
            "day good day\n",
            "day\n",
            "['day', 'good', 'day']\n",
            "['day']\n",
            "yes\n"
          ]
        }
      ]
    },
    {
      "cell_type": "code",
      "source": [
        "string = input()\n",
        "corner_string = input()\n",
        "str1 = string.split()\n",
        "corner1 = corner_string.split()\n",
        "print(str1)\n",
        "print(corner1)\n",
        "for i in str1:\n",
        "  for j in corner1:\n",
        "    if (i[0] and i[-1]) and (j[-1]):\n",
        "      print(\"yes\")\n",
        "    else:\n",
        "      print(\"no\")"
      ],
      "metadata": {
        "colab": {
          "base_uri": "https://localhost:8080/"
        },
        "id": "h-78rZfL5MkO",
        "outputId": "234f3aa4-bf4c-426e-9229-beac17414020"
      },
      "execution_count": null,
      "outputs": [
        {
          "output_type": "stream",
          "name": "stdout",
          "text": [
            "day good day\n",
            "day\n",
            "['day', 'good', 'day']\n",
            "['day']\n",
            "yes\n",
            "yes\n",
            "yes\n"
          ]
        }
      ]
    },
    {
      "cell_type": "code",
      "source": [
        "#Consider a fleet of soldiers of a country are being assembled for a rehearsal session, the enemy country secretly surrounded them and has a special strategy to kill the soldiers in a particular pattern.\n",
        "#Assume that the soldiers are standing in a single straight line. The enemies will repeatedly scan through this line and kill soldiers who are all matching this given pattern.\n",
        "#Find the list of soldiers who are surviving at last or find if all of them are killed.\n",
        "#Here soldiers are represented as alpha-numeric letters, irrespective of cases.\n",
        "#Example:\n",
        "#Soldiers: xAbcyAAbcbAbccz\n",
        "#Pattern: Abc\n",
        "soliders = \"xAbcyAAbcbAbccz\"\n",
        "pattern = \"Abc\"\n",
        "list1 = []\n",
        "for i in soliders:\n",
        "  if i == pattern:\n",
        "    continue\n",
        "  else:\n",
        "    list1.append(i!=pattern)\n",
        "print(list1)\n",
        "\n"
      ],
      "metadata": {
        "colab": {
          "base_uri": "https://localhost:8080/"
        },
        "id": "r9aANXTBFBRB",
        "outputId": "b418beeb-de6e-4ee0-88a5-09f25d1252a2"
      },
      "execution_count": null,
      "outputs": [
        {
          "output_type": "stream",
          "name": "stdout",
          "text": [
            "[True, True, True, True, True, True, True, True, True, True, True, True, True, True, True]\n"
          ]
        }
      ]
    }
  ]
}