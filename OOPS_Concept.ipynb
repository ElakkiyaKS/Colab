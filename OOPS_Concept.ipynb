{
  "nbformat": 4,
  "nbformat_minor": 0,
  "metadata": {
    "colab": {
      "provenance": [],
      "authorship_tag": "ABX9TyPy42MTufELQx5I4Xy0UOmf",
      "include_colab_link": true
    },
    "kernelspec": {
      "name": "python3",
      "display_name": "Python 3"
    },
    "language_info": {
      "name": "python"
    }
  },
  "cells": [
    {
      "cell_type": "markdown",
      "metadata": {
        "id": "view-in-github",
        "colab_type": "text"
      },
      "source": [
        "<a href=\"https://colab.research.google.com/github/ElakkiyaKS/Colab/blob/main/OOPS_Concept.ipynb\" target=\"_parent\"><img src=\"https://colab.research.google.com/assets/colab-badge.svg\" alt=\"Open In Colab\"/></a>"
      ]
    },
    {
      "cell_type": "code",
      "execution_count": null,
      "metadata": {
        "colab": {
          "base_uri": "https://localhost:8080/"
        },
        "id": "ofrDD7ZkFIiZ",
        "outputId": "d7ee4bdd-12d5-452d-90cd-37d67801a4fc"
      },
      "outputs": [
        {
          "output_type": "stream",
          "name": "stdout",
          "text": [
            "John\n",
            "2\n",
            "John\n",
            "2\n"
          ]
        }
      ],
      "source": [
        "#class and object #1. Create a class named 'Student' with a string variable 'name' and an integer variable 'roll_no'.\n",
        "# Assign the value of roll_no as '2' and that of name as \"John\" by creating an object of the class Student.\n",
        "class student:\n",
        "  name = input()\n",
        "  roll_no = int(input())\n",
        "result = student()  #object creation\n",
        "print(result.name)\n",
        "print(result.roll_no)\n"
      ]
    },
    {
      "cell_type": "code",
      "source": [
        "#2.Assign and print the roll number, phone number and address of two students having names \"Sam\" and \"John\" respectively\n",
        "# by creating two objects of the class 'Student'.\n",
        "class student:\n",
        "  def sam(self):\n",
        "    roll_no = int(input())\n",
        "    phn_no = int(input())\n",
        "    address = input()\n",
        "    return roll_no,phn_no,address\n",
        "  def john(self):\n",
        "    roll_no = int(input())\n",
        "    phn_no = int(input())\n",
        "    address = input()\n",
        "    return roll_no,phn_no,address\n",
        "obj = student()\n",
        "print(obj.sam())\n",
        "print(obj.john())"
      ],
      "metadata": {
        "colab": {
          "base_uri": "https://localhost:8080/"
        },
        "id": "ZcVUGyocKu0H",
        "outputId": "348d7917-697b-453a-8ad1-08167e79be58"
      },
      "execution_count": null,
      "outputs": [
        {
          "output_type": "stream",
          "name": "stdout",
          "text": [
            "1\n",
            "79847\n",
            "fjbfhrygb\n",
            "(1, 79847, 'fjbfhrygb')\n",
            "2\n",
            "74890\n",
            "jffiuhtguyhyr\n",
            "(2, 74890, 'jffiuhtguyhyr')\n"
          ]
        }
      ]
    },
    {
      "cell_type": "code",
      "source": [
        "#Write a program to print the area and perimeter of a triangle having sides of 3, 4 and 5 units by creating a class named 'Triangle'\n",
        "#with a function to print the area and perimeter.\n",
        "class triangle:\n",
        "  def area(m):\n",
        "    breadth = int(input())\n",
        "    height = int(input())\n",
        "    ans = 1/2*breadth*height\n",
        "    return ans\n",
        "  def perimeter(n):\n",
        "    a = int(input())\n",
        "    b = int(input())\n",
        "    c = int(input())\n",
        "    ans = a+b+c\n",
        "    return ans\n",
        "obj = triangle()\n",
        "print(obj.area())\n",
        "print(obj.perimeter())\n"
      ],
      "metadata": {
        "colab": {
          "base_uri": "https://localhost:8080/"
        },
        "id": "y6rTmGS_PVFq",
        "outputId": "b783dff1-ed80-43b8-e049-0af5f12dc73c"
      },
      "execution_count": null,
      "outputs": [
        {
          "output_type": "stream",
          "name": "stdout",
          "text": [
            "2\n",
            "3\n",
            "3.0\n",
            "3\n",
            "4\n",
            "5\n",
            "12\n"
          ]
        }
      ]
    },
    {
      "cell_type": "code",
      "source": [
        "#to find the largest element in the list\n",
        "class largest:\n",
        "  def find(self):\n",
        "    a = list(map(int, input().split()))\n",
        "    b = max(a)\n",
        "    return b\n",
        "obj = largest()\n",
        "print(obj.find())\n",
        "\n"
      ],
      "metadata": {
        "colab": {
          "base_uri": "https://localhost:8080/"
        },
        "id": "--3di0-ns2Gw",
        "outputId": "0e4b42be-f4d7-433f-91ed-6d215b4f53ed"
      },
      "execution_count": null,
      "outputs": [
        {
          "output_type": "stream",
          "name": "stdout",
          "text": [
            "1 2 3 4 5\n",
            "5\n"
          ]
        }
      ]
    },
    {
      "cell_type": "code",
      "source": [
        "class ATM:\n",
        "    def __init__(self):\n",
        "        self.pin = int(input(\"Enter the PIN: \"))\n",
        "        self.amount = int(input(\"Enter the initial amount: \"))\n",
        "        self.balance = self.amount\n",
        "    def deposit(self):\n",
        "        deposit_amount = int(input(\"Enter the amount for depositing: \"))\n",
        "        self.balance += deposit_amount\n",
        "        print(\"Deposit successful. Your new balance is:\", self.balance)\n",
        "    def withdraw(self):\n",
        "        withdrawal_amount = int(input(\"Enter the amount for withdrawal: \"))\n",
        "        if withdrawal_amount > self.balance:\n",
        "            print(\"Insufficient balance.\")\n",
        "        else:\n",
        "            self.balance -= withdrawal_amount\n",
        "            print(\"Withdrawal successful. Your new balance is:\", self.balance)\n",
        "obj = ATM()\n",
        "obj.deposit()\n",
        "obj.withdraw()\n"
      ],
      "metadata": {
        "id": "T7jNS0V4ydo_"
      },
      "execution_count": null,
      "outputs": []
    },
    {
      "cell_type": "code",
      "source": [
        "class ATM:\n",
        "  def __init__(self):\n",
        "    print(\"Welcome\")\n",
        "  def essentials(self):\n",
        "    balance = 5000\n",
        "    pin = 1234\n",
        "    a = int(input(\"Enter your pin:\"))\n",
        "    if a == pin:\n",
        "      print(\"valid pin\")\n",
        "    else:\n",
        "      print(\"invalid pin\")\n",
        "    actual = 5000\n",
        "    deposit_amt = int(input(\"Enter the amount:\"))\n",
        "    b = actual + deposit_amt\n",
        "    return b\n",
        "obj = ATM()\n",
        "obj.essentials()\n",
        "\n",
        "\n",
        "\n",
        "\n"
      ],
      "metadata": {
        "colab": {
          "base_uri": "https://localhost:8080/"
        },
        "id": "6dTVddD-yxEo",
        "outputId": "67ee2cf9-9f1a-4229-e33c-4e75402a4ee7"
      },
      "execution_count": null,
      "outputs": [
        {
          "name": "stdout",
          "output_type": "stream",
          "text": [
            "Welcome\n",
            "Enter your pin:12334\n",
            "invalid pin\n",
            "Enter the amount:2000\n"
          ]
        },
        {
          "output_type": "execute_result",
          "data": {
            "text/plain": [
              "7000"
            ]
          },
          "metadata": {},
          "execution_count": 1
        }
      ]
    },
    {
      "cell_type": "code",
      "source": [
        "#linked list\n"
      ],
      "metadata": {
        "id": "sfXcKTWHAspX"
      },
      "execution_count": null,
      "outputs": []
    }
  ]
}