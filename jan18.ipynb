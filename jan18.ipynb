{
  "nbformat": 4,
  "nbformat_minor": 0,
  "metadata": {
    "colab": {
      "provenance": [],
      "authorship_tag": "ABX9TyNFEpx3bA5Ux96SWfKhcZkV",
      "include_colab_link": true
    },
    "kernelspec": {
      "name": "python3",
      "display_name": "Python 3"
    },
    "language_info": {
      "name": "python"
    }
  },
  "cells": [
    {
      "cell_type": "markdown",
      "metadata": {
        "id": "view-in-github",
        "colab_type": "text"
      },
      "source": [
        "<a href=\"https://colab.research.google.com/github/ElakkiyaKS/Colab/blob/main/jan18.ipynb\" target=\"_parent\"><img src=\"https://colab.research.google.com/assets/colab-badge.svg\" alt=\"Open In Colab\"/></a>"
      ]
    },
    {
      "cell_type": "code",
      "execution_count": null,
      "metadata": {
        "colab": {
          "base_uri": "https://localhost:8080/"
        },
        "id": "2BiTcF6c3WWW",
        "outputId": "0cdac31d-ac59-4ce7-ddb5-89d10cd31f01"
      },
      "outputs": [
        {
          "output_type": "stream",
          "name": "stdout",
          "text": [
            "20\n",
            "6\n"
          ]
        }
      ],
      "source": [
        "#boy standing in  nth step\n",
        "n = int(input())\n",
        "count = 0\n",
        "while n>0:\n",
        "  if n%2 == 0:\n",
        "    n = n/2\n",
        "    count = count+1\n",
        "  elif n%2 != 0:\n",
        "    n = n-1\n",
        "    count = count+1\n",
        "print(count)"
      ]
    },
    {
      "cell_type": "code",
      "source": [
        "a = []\n",
        "b = []\n",
        "count = 0\n",
        "n = int(input())\n",
        "a = list(map(int,input().split()))\n",
        "b = list(map(int,input().split()))\n",
        "c = min(a)\n",
        "d = len(a)\n",
        "for i in range(d):\n",
        "  while c<a[i]:\n",
        "    a[i] = a[i]-b[i]\n",
        "    count = count+1\n",
        "print(count)"
      ],
      "metadata": {
        "colab": {
          "base_uri": "https://localhost:8080/"
        },
        "id": "K1YG74hX68MJ",
        "outputId": "3b56f648-1221-44d2-e87c-84044ac4e0e2"
      },
      "execution_count": null,
      "outputs": [
        {
          "output_type": "stream",
          "name": "stdout",
          "text": [
            "5\n",
            "5 7 10 5 15\n",
            "2 2 1 3 5\n",
            "8\n"
          ]
        }
      ]
    },
    {
      "cell_type": "code",
      "source": [
        "list=[]\n",
        "n=int(input())\n",
        "for i in range(n):\n",
        "  ele=int(input())\n",
        "  list.append(ele)\n",
        "print(list)\n"
      ],
      "metadata": {
        "id": "PThpzLadKRlK",
        "colab": {
          "base_uri": "https://localhost:8080/"
        },
        "outputId": "a4513a08-d0cc-4438-e194-033c9318ba13"
      },
      "execution_count": null,
      "outputs": [
        {
          "output_type": "stream",
          "name": "stdout",
          "text": [
            "8\n",
            "1\n",
            "8\n",
            "3\n",
            "5\n",
            "10\n",
            "12\n",
            "13\n",
            "4\n",
            "[1, 8, 3, 5, 10, 12, 13, 4]\n"
          ]
        }
      ]
    },
    {
      "cell_type": "code",
      "source": [
        "word = input()\n",
        "z_count = 0\n",
        "o_count = 0\n",
        "for char in word:\n",
        "  if char == 'z':\n",
        "    z_count += 1\n",
        "  elif char == 'o':\n",
        "    o_count += 1\n",
        "  else:\n",
        "    print(\"invalid input\")\n",
        "    break\n",
        "if 'z' not in word or 'o' not in word:\n",
        "  print(\"invalid input\")\n",
        "else:\n",
        "  result = \"Yes\" if 2*z_count == o_count else \"No\"\n",
        "  print(result)"
      ],
      "metadata": {
        "id": "Yv9Ez0ftM87U",
        "colab": {
          "base_uri": "https://localhost:8080/"
        },
        "outputId": "aac9af06-6498-44e5-f0a1-79a81b7c332c"
      },
      "execution_count": null,
      "outputs": [
        {
          "output_type": "stream",
          "name": "stdout",
          "text": [
            "zzoooo\n",
            "Yes\n"
          ]
        }
      ]
    },
    {
      "cell_type": "code",
      "source": [
        "list = input()\n",
        "word = list.split()\n",
        "count = 0\n",
        "for string in word:\n",
        "  if len(string) >= 2 and string[0] == string[-1]:\n",
        "    count = count+1\n",
        "print(count)\n"
      ],
      "metadata": {
        "colab": {
          "base_uri": "https://localhost:8080/"
        },
        "id": "29I4EtK7BJ_F",
        "outputId": "a3ed04ca-e649-4d48-eb93-e5b4bbc57ca7"
      },
      "execution_count": null,
      "outputs": [
        {
          "output_type": "stream",
          "name": "stdout",
          "text": [
            "1221\n",
            "1\n"
          ]
        }
      ]
    },
    {
      "cell_type": "code",
      "source": [
        "num = int(input())\n",
        "rem = 0\n",
        "if num > 0:\n",
        "  rem = num%8\n",
        "  if rem == 0:\n",
        "    res = 2\n",
        "  elif rem < 5:\n",
        "    res = rem\n",
        "  else:\n",
        "    res = 10-rem\n",
        "  if res == 1:\n",
        "    print(\"Thumb finger\")\n",
        "  elif res == 2:\n",
        "    print(\"Index finger\")\n",
        "  elif res == 3:\n",
        "    print(\"Middle finger\")\n",
        "  elif res == 4:\n",
        "    print(\"Ring finger\")\n",
        "  elif res == 5:\n",
        "    print(\"Little finger\")\n"
      ],
      "metadata": {
        "colab": {
          "base_uri": "https://localhost:8080/"
        },
        "id": "hZW9ouhAFN7V",
        "outputId": "ada1f7f5-cdf6-4cb5-acea-e74a098f1dd8"
      },
      "execution_count": null,
      "outputs": [
        {
          "output_type": "stream",
          "name": "stdout",
          "text": [
            "17\n",
            "Thumb finger\n"
          ]
        }
      ]
    },
    {
      "cell_type": "code",
      "source": [
        "list1 = [1,2,3,4,5,6]\n",
        "sum = int(input())\n",
        "n = len(list)\n",
        "for i in range(0,n-1):\n",
        "  for j in range(i+1,n):\n",
        "    if(list1[i]+list[j]==sum):\n",
        "      print(\"pair is {} {}\".format(list1[i]))"
      ],
      "metadata": {
        "id": "ML_FKUazIrD8"
      },
      "execution_count": null,
      "outputs": []
    },
    {
      "cell_type": "code",
      "source": [
        "lst = []\n",
        "n = int(input(\"Enter number of elements : \"))\n",
        "\n",
        "for i in range(0, n):\n",
        "\tele = [input(), int(input())]\n",
        "\tlst.append(ele)\n",
        "\n",
        "print(lst)\n",
        "\n",
        "\n",
        "\n"
      ],
      "metadata": {
        "colab": {
          "base_uri": "https://localhost:8080/"
        },
        "id": "zLMeR9-SIBjw",
        "outputId": "955a32db-7363-479d-859b-5719e92aeb1a"
      },
      "execution_count": null,
      "outputs": [
        {
          "output_type": "stream",
          "name": "stdout",
          "text": [
            "Enter number of elements : 3\n",
            "1\n",
            "2\n",
            "3\n",
            "4\n",
            "5\n",
            "6\n",
            "[['1', 2], ['3', 4], ['5', 6]]\n"
          ]
        }
      ]
    },
    {
      "cell_type": "code",
      "source": [
        "a = \"Hello World\"\n",
        "for i in range(1,len(a),2):\n",
        "  if(a[i].isupper()):\n",
        "    print(a[i].lower(),end=\"\")\n",
        "  elif(a[i].islower()):\n",
        "    print(a[i].upper(),end=\"\")"
      ],
      "metadata": {
        "colab": {
          "base_uri": "https://localhost:8080/"
        },
        "id": "2TVrICUavngX",
        "outputId": "dea35171-229c-42d4-b862-26debbad84a3"
      },
      "execution_count": null,
      "outputs": [
        {
          "output_type": "stream",
          "name": "stdout",
          "text": [
            "ELOL"
          ]
        }
      ]
    },
    {
      "cell_type": "code",
      "source": [],
      "metadata": {
        "id": "P05eeW1kzFus"
      },
      "execution_count": null,
      "outputs": []
    }
  ]
}