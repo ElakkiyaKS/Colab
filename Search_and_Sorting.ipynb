{
  "nbformat": 4,
  "nbformat_minor": 0,
  "metadata": {
    "colab": {
      "provenance": [],
      "authorship_tag": "ABX9TyPnV7YpC0jCoTGts/wAGdkt",
      "include_colab_link": true
    },
    "kernelspec": {
      "name": "python3",
      "display_name": "Python 3"
    },
    "language_info": {
      "name": "python"
    }
  },
  "cells": [
    {
      "cell_type": "markdown",
      "metadata": {
        "id": "view-in-github",
        "colab_type": "text"
      },
      "source": [
        "<a href=\"https://colab.research.google.com/github/ElakkiyaKS/Colab/blob/main/Search_and_Sorting.ipynb\" target=\"_parent\"><img src=\"https://colab.research.google.com/assets/colab-badge.svg\" alt=\"Open In Colab\"/></a>"
      ]
    },
    {
      "cell_type": "code",
      "execution_count": null,
      "metadata": {
        "colab": {
          "base_uri": "https://localhost:8080/"
        },
        "id": "O7jcWSvSGiz7",
        "outputId": "f7fe5576-d524-4ac5-8ee2-dfed4540d51d"
      },
      "outputs": [
        {
          "output_type": "stream",
          "name": "stdout",
          "text": [
            "true\n"
          ]
        }
      ],
      "source": [
        "#Linear Search\n",
        "array = [1,2,3,4,5]\n",
        "n = 4\n",
        "flag = 0\n",
        "for i in array:\n",
        "  if i==n:\n",
        "    flag = 1\n",
        "if flag == 1:\n",
        "  print(\"true\")\n",
        "else:\n",
        "  print(\"false\")"
      ]
    },
    {
      "cell_type": "code",
      "source": [
        "#Binary Search\n",
        "arr = [2, 4, 6, 8, 10, 12, 14, 16, 18, 20]\n",
        "target = 12\n",
        "low = 0\n",
        "high = len(arr) - 1\n",
        "found = False\n",
        "while low <= high:\n",
        "    mid = (low + high) // 2\n",
        "    if arr[mid] == target:\n",
        "        print(f\"Element {target} is present at index {mid}.\")\n",
        "        found = True\n",
        "        break\n",
        "    elif arr[mid] < target:\n",
        "        low = mid + 1\n",
        "    else:\n",
        "        high = mid - 1\n",
        "if not found:\n",
        "    print(f\"Element {target} is not present in the array.\")\n"
      ],
      "metadata": {
        "colab": {
          "base_uri": "https://localhost:8080/"
        },
        "id": "iAtjE49ybphc",
        "outputId": "a6c15050-abfc-4e17-8b04-1a7e8c7fdbd0"
      },
      "execution_count": null,
      "outputs": [
        {
          "output_type": "stream",
          "name": "stdout",
          "text": [
            "Element 12 is present at index 5.\n"
          ]
        }
      ]
    },
    {
      "cell_type": "code",
      "source": [
        "#Bubble Sort\n",
        "arr = [7, 8, 4, 5]\n",
        "n = len(arr)\n",
        "for i in range(0, n-1):\n",
        "    for j in range(0, n-i-1):\n",
        "        if arr[j] > arr[j+1]:\n",
        "            arr[j], arr[j+1] = arr[j+1], arr[j]\n",
        "print( arr)\n"
      ],
      "metadata": {
        "colab": {
          "base_uri": "https://localhost:8080/"
        },
        "id": "aYPuTS_3iqCJ",
        "outputId": "27a1bc01-9e31-4454-d2bd-d1a664675df2"
      },
      "execution_count": null,
      "outputs": [
        {
          "output_type": "stream",
          "name": "stdout",
          "text": [
            "[4, 5, 7, 8]\n"
          ]
        }
      ]
    },
    {
      "cell_type": "code",
      "source": [
        "#Quick Sort\n",
        "def quick_sort(arr):\n",
        "  if len(arr)<=1:\n",
        "    return arr\n",
        "  else:\n",
        "    pivot = arr.pop()\n",
        "    lesser = []\n",
        "    greater = []\n",
        "    for element in arr:\n",
        "      if element <= pivot:\n",
        "        lesser.append(element)\n",
        "      else:\n",
        "        greater.append(element)\n",
        "    return quick_sort(lesser) + [pivot] + quick_sort(greater)\n",
        "arr = [5,6,3,4,9,1,8,2,7]\n",
        "sorted_arr = quick_sort(arr)\n",
        "print(sorted_arr)\n"
      ],
      "metadata": {
        "colab": {
          "base_uri": "https://localhost:8080/"
        },
        "id": "MUCbgYrJF3Bb",
        "outputId": "2ce8b502-0f76-4518-efae-d4c0ed91c6b6"
      },
      "execution_count": null,
      "outputs": [
        {
          "output_type": "stream",
          "name": "stdout",
          "text": [
            "[1, 2, 3, 4, 5, 6, 7, 8, 9]\n"
          ]
        }
      ]
    }
  ]
}