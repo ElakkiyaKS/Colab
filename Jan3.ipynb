{
  "cells": [
    {
      "cell_type": "markdown",
      "metadata": {
        "id": "view-in-github",
        "colab_type": "text"
      },
      "source": [
        "<a href=\"https://colab.research.google.com/github/ElakkiyaKS/Colab/blob/main/Jan3.ipynb\" target=\"_parent\"><img src=\"https://colab.research.google.com/assets/colab-badge.svg\" alt=\"Open In Colab\"/></a>"
      ]
    },
    {
      "cell_type": "code",
      "execution_count": null,
      "metadata": {
        "colab": {
          "base_uri": "https://localhost:8080/"
        },
        "id": "MFIXylTck4XU",
        "outputId": "4d7ac528-ec8b-4623-e03e-ca315921c526"
      },
      "outputs": [
        {
          "name": "stdout",
          "output_type": "stream",
          "text": [
            "practice\n"
          ]
        }
      ],
      "source": [
        "#to print\n",
        "print(\"practice\")"
      ]
    },
    {
      "cell_type": "code",
      "execution_count": null,
      "metadata": {
        "id": "yUMMYcaoleno"
      },
      "outputs": [],
      "source": [
        "#single statement - (\" \"; '') - (single/double quotes)\n",
        "#multiline statement - (triple quotes)"
      ]
    },
    {
      "cell_type": "code",
      "execution_count": null,
      "metadata": {
        "colab": {
          "base_uri": "https://localhost:8080/"
        },
        "id": "q-Vb2qWnltIf",
        "outputId": "76ccee18-19a3-4a38-d7f2-bb5ee5d8b3b1"
      },
      "outputs": [
        {
          "name": "stdout",
          "output_type": "stream",
          "text": [
            "hello \n",
            "hi\n"
          ]
        }
      ],
      "source": [
        "#multiline statement\n",
        "print('''hello\n",
        "hi''')"
      ]
    },
    {
      "cell_type": "code",
      "execution_count": null,
      "metadata": {
        "colab": {
          "base_uri": "https://localhost:8080/"
        },
        "id": "ceqQYBmtnhGK",
        "outputId": "cfe1a404-3d57-41a9-d2f8-4f975ed24f45"
      },
      "outputs": [
        {
          "name": "stdout",
          "output_type": "stream",
          "text": [
            "apple\n",
            "orange\n"
          ]
        }
      ],
      "source": [
        "print('apple')\n",
        "print('orange')"
      ]
    },
    {
      "cell_type": "code",
      "execution_count": null,
      "metadata": {
        "colab": {
          "background_save": true
        },
        "id": "u3SeTsKYn6TO",
        "outputId": "b4cf67ae-e9e7-4f1b-d058-b6229e0d1349"
      },
      "outputs": [
        {
          "name": "stdout",
          "output_type": "stream",
          "text": [
            "hello  "
          ]
        }
      ],
      "source": [
        "print(\"hello\", end  )"
      ]
    },
    {
      "cell_type": "code",
      "source": [
        "n = int(input())\n",
        "i = 0\n",
        "while(i<=n):\n",
        "  i += 1\n",
        "print(i)"
      ],
      "metadata": {
        "colab": {
          "base_uri": "https://localhost:8080/"
        },
        "id": "h8GNRyzN2LzS",
        "outputId": "a6c5c72b-5b44-4425-e9b5-5255da8f99c8"
      },
      "execution_count": null,
      "outputs": [
        {
          "output_type": "stream",
          "name": "stdout",
          "text": [
            "4\n",
            "5\n"
          ]
        }
      ]
    }
  ],
  "metadata": {
    "colab": {
      "provenance": [],
      "authorship_tag": "ABX9TyM7c1h6qLt1R1odsUYY/zy2",
      "include_colab_link": true
    },
    "kernelspec": {
      "display_name": "Python 3",
      "name": "python3"
    },
    "language_info": {
      "name": "python"
    }
  },
  "nbformat": 4,
  "nbformat_minor": 0
}