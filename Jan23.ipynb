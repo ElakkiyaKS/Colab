{
  "nbformat": 4,
  "nbformat_minor": 0,
  "metadata": {
    "colab": {
      "provenance": [],
      "authorship_tag": "ABX9TyMXkeHNiaGcnpYOSD4VsYgz",
      "include_colab_link": true
    },
    "kernelspec": {
      "name": "python3",
      "display_name": "Python 3"
    },
    "language_info": {
      "name": "python"
    }
  },
  "cells": [
    {
      "cell_type": "markdown",
      "metadata": {
        "id": "view-in-github",
        "colab_type": "text"
      },
      "source": [
        "<a href=\"https://colab.research.google.com/github/ElakkiyaKS/Colab/blob/main/Jan23.ipynb\" target=\"_parent\"><img src=\"https://colab.research.google.com/assets/colab-badge.svg\" alt=\"Open In Colab\"/></a>"
      ]
    },
    {
      "cell_type": "code",
      "execution_count": null,
      "metadata": {
        "colab": {
          "base_uri": "https://localhost:8080/"
        },
        "id": "s27b4FqVviaU",
        "outputId": "45ad9b98-0d62-4e04-84fd-1eed0cc51039"
      },
      "outputs": [
        {
          "output_type": "stream",
          "name": "stdout",
          "text": [
            "elakkiya\n",
            "ElAkkIyA"
          ]
        }
      ],
      "source": [
        "#the task is to change vowels into uppercase and consonants in lowercase\n",
        "string = input()\n",
        "for i in string:\n",
        "  if i == \"a\" or i == \"e\" or i == \"i\" or i == \"o\" or i == \"u\":\n",
        "    print(i.upper(),end='')\n",
        "  else:\n",
        "    print(i.lower(),end='')\n"
      ]
    },
    {
      "cell_type": "code",
      "source": [
        "#the task is to checkh whether given string is weak password or strong password\n",
        "#input:Abc@123 #output:strong\n",
        "string = input()\n",
        "="
      ],
      "metadata": {
        "id": "EiU-VBx-7RwY"
      },
      "execution_count": null,
      "outputs": []
    },
    {
      "cell_type": "code",
      "source": [
        "#Ex1\n",
        "n=input()\n",
        "a=len(n)\n",
        "for i in range(1,a,2):\n",
        "    if (n[i].isupper()):\n",
        "        print(n[i].lower(),end='')\n",
        "    elif (n[i].islower()):\n",
        "        print(n[i].upper(),end='')\n",
        "    else:\n",
        "        print(n[i],end='')\n",
        "for j in range(0,a,2):\n",
        "    if (n[j].isupper()):\n",
        "        print(n[j].lower(),end='')\n",
        "    elif (n[j].islower()):\n",
        "        print(n[j].upper(),end='')\n"
      ],
      "metadata": {
        "colab": {
          "base_uri": "https://localhost:8080/"
        },
        "id": "Q8Gt4E550Cxe",
        "outputId": "d3b75863-3d64-4109-aa93-75f0c8bce394"
      },
      "execution_count": null,
      "outputs": [
        {
          "output_type": "stream",
          "name": "stdout",
          "text": [
            "Hello World\n",
            "EL OLhLOwRD"
          ]
        }
      ]
    },
    {
      "cell_type": "code",
      "source": [
        "#to make vowels\n",
        "a = input().split()\n",
        "b = \" \"\n",
        "for i in a:\n",
        "  if i in \"AEIOUaeiou\":\n",
        "    if ord(i)<97:\n",
        "      b+=chr(ord(i)+32)\n",
        "    else:\n",
        "      b+=chr(ord(i)-32)\n",
        "  else:\n",
        "    b += i\n",
        "print(b)"
      ],
      "metadata": {
        "colab": {
          "base_uri": "https://localhost:8080/"
        },
        "id": "E-IKD9220cns",
        "outputId": "51da02e8-a970-47a7-8861-3f0728527eb6"
      },
      "execution_count": null,
      "outputs": [
        {
          "output_type": "stream",
          "name": "stdout",
          "text": [
            "elakkiya\n",
            " ElAkkIyA\n"
          ]
        }
      ]
    },
    {
      "cell_type": "code",
      "source": [
        "mylist = [\"apple\", \"car\", \"dio\",\"bana\"]\n",
        "mylist.sort()\n",
        "print(mylist)"
      ],
      "metadata": {
        "colab": {
          "base_uri": "https://localhost:8080/"
        },
        "id": "BXhTnc-ID0nA",
        "outputId": "f514ca21-9f55-4f05-db9f-2c19c8569901"
      },
      "execution_count": null,
      "outputs": [
        {
          "output_type": "stream",
          "name": "stdout",
          "text": [
            "['apple', 'bana', 'car', 'dio']\n"
          ]
        }
      ]
    },
    {
      "cell_type": "code",
      "source": [
        "string = input()\n",
        "print((string[-2:])*4)"
      ],
      "metadata": {
        "colab": {
          "base_uri": "https://localhost:8080/"
        },
        "id": "dD_wbLGw2iHQ",
        "outputId": "51bd99ff-7bab-4ded-f4a7-ef8c4bfc650e"
      },
      "execution_count": null,
      "outputs": [
        {
          "output_type": "stream",
          "name": "stdout",
          "text": [
            "python\n",
            "onononon\n"
          ]
        }
      ]
    },
    {
      "cell_type": "code",
      "source": [
        "string = input()\n",
        "k = string[::-1]\n",
        "n = k[-1]\n",
        "s = \" \"\n",
        "for i in k:\n",
        "  if n==i.upper():\n",
        "    s+=i.lower()\n",
        "  elif n==i.lower():\n",
        "    s+=i.upper()\n",
        "  else:\n",
        "    s+=i\n",
        "print(s)"
      ],
      "metadata": {
        "colab": {
          "base_uri": "https://localhost:8080/"
        },
        "id": "Tmozt3Kz7ALL",
        "outputId": "9963281d-f4a1-4813-ac95-c230c45bb090"
      },
      "execution_count": null,
      "outputs": [
        {
          "output_type": "stream",
          "name": "stdout",
          "text": [
            "Procssor\n",
            " rosscorp\n"
          ]
        }
      ]
    },
    {
      "cell_type": "code",
      "source": [
        "#input: 01010101    #input:ram01\n",
        "#output:yes         #output:no\n"
      ],
      "metadata": {
        "id": "o3rnNICf9Qgy"
      },
      "execution_count": null,
      "outputs": []
    }
  ]
}